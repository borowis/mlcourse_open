{
 "cells": [
  {
   "cell_type": "markdown",
   "metadata": {},
   "source": [
    "<center>\n",
    "<img src=\"../../img/ods_stickers.jpg\">\n",
    "## Открытый курс по машинному обучению\n",
    "<center>Автор материала: программист-исследователь Mail.ru Group, старший преподаватель <br>Факультета Компьютерных Наук ВШЭ Юрий Кашницкий"
   ]
  },
  {
   "cell_type": "markdown",
   "metadata": {},
   "source": [
    "# <center> Домашнее задание № 10\n",
    "## <center> Реализация градиентного бустинга\n",
    "\n",
    "В этом задании мы реализуем алгоритм градиентного бустинга в довольно общем виде, один и тот же класс будет описывать бинарный классификатор, при обучении которого минимизируется логистическая фунцкция потерь, и 2 регрессора, минимизирующих среднеквадратическую ошибку MSE и [RMSLE](https://www.kaggle.com/wiki/RootMeanSquaredLogarithmicError). Это даст представление о том, что с помощью градиентного бустинга можно оптимизировать произвольные дифференцируемые функции потерь, а также что бустинг адаптируется под разные задачи. [Веб-форма](https://goo.gl/forms/mMUhGSDiOHJI9NHN2) для ответов."
   ]
  },
  {
   "cell_type": "markdown",
   "metadata": {},
   "source": [
    "Версию алгоритма берем из [статьи](https://habrahabr.ru/company/ods/blog/327250/#klassicheskiy-gbm-algoritm-friedman-a) (см. псевдокод), но с двумя упрощениями:\n",
    "- инициализация – средним значением вектора $\\large y$, то есть $\\large \\hat{f_0} = \\frac{1}{n}\\sum_{i=1}^{n}y_i$\n",
    "- шаг градиентного спуска (то же что и вес очередного базового алгоритма в композиции) постоянный: $\\large \\rho_t = const$\n",
    "\n",
    "Соответствие обозначений в псевдокоде и в классе `GradientBoosting`, который мы сейчас напишем:\n",
    "- $\\large \\{x_i, y_i\\}_{i = 1,\\ldots n}$ или `X`, `y` – обучающая выборка\n",
    "- $\\large L(y,f)$ или `objective` – функция потерь\n",
    "- $\\large \\frac{\\partial L(y_i,f(x_i))}{\\partial f(x_i)}$ или `objective_grad` – градиент функции потерь\n",
    "- $М$ или `n_estimators` – число итераций бустинга\n",
    "- $\\large h(x,\\theta)$ или `DecisionionTreeRegressor` – базовый алгоритм, дерево решений для регрессии\n",
    "- $\\large \\theta$ – гиперпараметры деревьев, мы рассмотрим только `max_depth` и `random_state`\n",
    "- $\\large \\rho_t$ или `learning_rate` – коэффициент, с которым  $\\large h_t(x,\\theta)$ входит в композицию, $t=1,\\ldots,M$"
   ]
  },
  {
   "cell_type": "markdown",
   "metadata": {},
   "source": [
    "## Вычисление градиентов log_loss, MSE и RMSLE"
   ]
  },
  {
   "cell_type": "markdown",
   "metadata": {},
   "source": [
    "Для начала классика – возьмем ручку и бумажку и посчитаем градиенты функций потерь:\n",
    "\n",
    "$$log\\_loss(y, p) = -y\\log p - (1 - y)\\log (1 - p) = -\\sum_{i=1}^{n}y_i\\log p_i + (1 - y_i)\\log (1 - p_i)$$\n",
    "\n",
    "$$MSE(y, p) = \\frac{1}{n}(y - p)^T(y - p) = \\frac{1}{n}\\sum_{i=1}^{n}(y_i - p_i)^2$$\n",
    "\n",
    "$$RMSLE(y, p) = \\sqrt{\\frac{1}{n} (\\log (p + 1) - \\log (y + 1))^T(\\log (p + 1) - \\log (y + 1))} = \\sqrt{\\frac{1}{n} \\sum_{i=1}^{n}(\\log (p_i + 1) - \\log (y_i + 1))^2}$$\n",
    "\n",
    "Здесь $y$ и $p$ – это **векторы** истинных ответов и прогнозов соответственно.\n",
    "`log_loss` взяли как в  `sklearn` – для случая меток целевого класса 0 и 1, а не -1 и 1, как описано в статье (только не усреднили, т.е. нет деления на число объектов $n$, в `sklearn` это соответствует значению аргумента `normalize=False` функции `log_loss`)."
   ]
  },
  {
   "cell_type": "markdown",
   "metadata": {},
   "source": [
    "<font color='red'>Вопрос 1.</font> Какова формула градиента функции `MSE`?\n",
    " 1. $(p - y) \\hspace{5cm}$ 3. $2(p - y)$\n",
    " <br><br>\n",
    " 2. $\\frac{2}{n}(y - p) \\hspace{4.7cm}$ 4. $\\frac{2}{n}(p - y)$\n",
    " \n",
    " "
   ]
  },
  {
   "cell_type": "markdown",
   "metadata": {},
   "source": [
    "<font color='red'>Вопрос 2.</font> Какова формула градиента функции `log_loss`?\n",
    " 1. $\\large \\frac{y - p}{y(1 - y)} \\hspace{5.2cm}$ 3. $\\large \\frac{p - y}{p(1 - p)}$\n",
    " <br><br>\n",
    " 2. $\\large \\frac{y - p}{p(1 - p)}\\hspace{5.2cm}$ 4. $\\large \\frac{p - y}{y(1 - y)}$\n",
    " <br><br>\n",
    " *Примечание:* деление на вектор – покомпонентное, например $\\frac{1}{p} = (\\frac{1}{p_1}, \\ldots \\frac{1}{p_n})^T$"
   ]
  },
  {
   "cell_type": "markdown",
   "metadata": {},
   "source": [
    "<font color='red'>Вопрос 3.</font> Какова формула градиента функции `RMSLE`?\n",
    " 1. $\\frac{1}{n} (p + 1) RMSLE^{-1}(y, p) \\log \\frac{p+1}{y+1} \\hspace{5cm}$ 3. $[n (y + 1) RMSLE(y, p)]^{-1} \\log \\frac{p+1}{y+1} $\n",
    " <br><br>\n",
    " 2. $[n (p + 1) RMSLE(y, p)]^{-1} \\log \\frac{p+1}{y+1} \\hspace{5cm}$ 4. $\\frac{1}{n} \\frac{y+1}{(p + 1)} RMSLE^{-1}(y, p) \\log \\frac{p+1}{y+1}$"
   ]
  },
  {
   "cell_type": "markdown",
   "metadata": {},
   "source": [
    "## Реализация алгоритма"
   ]
  },
  {
   "cell_type": "markdown",
   "metadata": {},
   "source": [
    "Напишем класс `GradientBoosting`. Детали:\n",
    "- класс наследуется от `sklearn.base.BaseEstimator`;\n",
    "- конструктор принимает параметры `loss` – название фунцкии потерь, которая будет оптимизироваться (`log_loss`, `mse` (по умолчанию) или `rmsle`), `n_estimators` – число деревьев (т.е. число итераций бустинга, по умолчанию – 10), `learning_rate` – шаг градиентного спуска (по умолчанию $10^{-2}$), `max_depth` – ограничение на максимальную глубину деревьев (по умолчанию 3) и `random_state` – сид генерации псевдослучайных чисел, нужен только для деревьев (по умолчанию 17);\n",
    "- в зависимости от переданного значения `loss` инициализируются `objective` и `objective_grad`. Для `MSE` берем `sklearn.metrics.mean_squared_error`, для `log_loss` – `sklearn.metrics.log_loss` (без нормализации, то есть на число объектов не надо делить, формула дана выше), а `RMSLE` и градиенты всех трех функций надо реализовать самостоятельно. При подсчете градиентов не выкидывайте константы типа двойки или $n$;\n",
    "- в реализациях градиентов `log_loss` и `rmsle` будет покомпонентное деление на вектора. Чтобы избежать деление на 0, предварительно замените значения, меньшие $10^{-5}$, на $10^{-5}$. Но только там, где необходимо. Например, в случае вычисления $\\frac{y}{p}$ замены делаем только в векторе $p$;\n",
    "- также в конструкторе создаются списки `loss_by_iter_` и `residuals_by_iter_` для отлаживания работы алгоритма и `trees_` – для хранения обученных деревьев;\n",
    "- класс имеет методы `fit`, `predict` и `predict_proba`\n",
    "- метод `fit` принимает матрицу `X` и вектор `y` (объекты `numpy.array`), а возвращает текущий экземпляр класса `GradientBoosting`, т.е. `self`. Основная логика, конечно же, реализуется здесь. На каждой итерации текущее значение функции потерь записывается в `loss_by_iter_`, значение антиградиента (то что в статье названо псевдо-остатками) – в `residuals_by_iter_` (можно в конструктор добавить флаг `debug=False` и добавлять значения антиградиента только при включенном флаге). Также обученное дерево добавляется в список `trees_`;\n",
    "- метод `predict_proba` возвращает линейную комбинацию прогнозов деревьев. Не забудем тут и про начальное приближение. В случае регрессии название метода будет не очень удачным, но оставим так, чтоб не писать отдельно классификатор и регрессор. В случае классификации к ответу применяется $\\sigma$-преобразование. В реализации $\\sigma$-функции замените значения аргумента, превышающие по модулю 100, на -100 или +100 в зависимости от знака (чтоб избежать underflow & overflow);\n",
    "- метод `predict` в случае регрессии возвращает линейную комбинацию прогнозов деревьев (+ начальное приближение), то есть то же, что и `predict_proba`. В случае классификации метод `predict` задействует метод `predict_proba` и возвращает вектор из 0 и 1, полученный сравнением предсказанных вероятностей с некоторым порогом, при котором максимизируется доля правильных ответов на обучающей выборке. Здесь хорошо было бы решить одномерную задачу оптимизации, но для полной воспроизводимости давайте выбирать порог из `np.linspace(0.01, 1.01, 100)`.\n"
   ]
  },
  {
   "cell_type": "code",
   "execution_count": 1,
   "metadata": {
    "collapsed": true
   },
   "outputs": [],
   "source": [
    "import numpy as np\n",
    "from matplotlib import pyplot as plt\n",
    "%matplotlib inline\n",
    "from sklearn.base import BaseEstimator\n",
    "from sklearn.datasets import load_breast_cancer, load_boston\n",
    "from sklearn.model_selection import train_test_split\n",
    "from sklearn.tree import DecisionTreeRegressor\n",
    "from sklearn.dummy import DummyRegressor\n",
    "from matplotlib import pyplot\n",
    "\n",
    "from sklearn.metrics import mean_squared_error\n",
    "from sklearn.metrics import log_loss\n",
    "from sklearn.metrics import roc_auc_score\n",
    "from sklearn.metrics import accuracy_score"
   ]
  },
  {
   "cell_type": "code",
   "execution_count": 90,
   "metadata": {
    "collapsed": true
   },
   "outputs": [],
   "source": [
    "class GradientBoosting(BaseEstimator):\n",
    "    \n",
    "    def sigma(self, z):\n",
    "        z[z > 100] = 100\n",
    "        z[z < -100] = -100\n",
    "            \n",
    "        return 1. / (1 + np.exp(-z))\n",
    "    \n",
    "    def log_loss_unnormalized(self, y, p):\n",
    "        return log_loss(y, p, normalize=False)\n",
    "    \n",
    "    def log_loss_grad(self, y, p):\n",
    "        denom = p * (1 - p)\n",
    "        denom[denom < 1e-5] = 1e-5\n",
    "        return (p - y) / denom\n",
    "    \n",
    "    def mse_grad(self, y, p):\n",
    "        return 2 / y.shape[0] * (p - y)\n",
    "    \n",
    "    def rmsle(self, y, p):\n",
    "        return np.sqrt(1. / y.shape[0] * np.sum(np.square(np.log((p + 1) / (y + 1)))))\n",
    "    \n",
    "    def rmsle_grad(self, y, p):\n",
    "        denom = y.shape[0] * (p + 1) * self.rmsle(y, p)\n",
    "        denom[denom < 1e-5] = 1e-5\n",
    "        return 1 / denom * (np.log(p + 1) - np.log(y + 1))\n",
    "    \n",
    "    def __init__(self, loss='mse', n_estimators=10, learning_rate=1e-2, max_depth=3, random_state=17):\n",
    "\n",
    "        if loss == 'mse':\n",
    "            self.objective = mean_squared_error\n",
    "            self.objective_grad = self.mse_grad\n",
    "            self.classification = False\n",
    "        elif loss == 'log_loss':\n",
    "            self.objective = self.log_loss_unnormalized\n",
    "            self.objective_grad = self.log_loss_grad\n",
    "            self.classification = True\n",
    "        elif loss == 'rmsle': \n",
    "            self.objective = self.rmsle\n",
    "            self.objective_grad = self.rmsle_grad\n",
    "            self.classification = False\n",
    "        else: \n",
    "            raise Exception('invalid loss function')\n",
    "        \n",
    "        self.n_estimators = n_estimators\n",
    "        self.learning_rate = learning_rate\n",
    "        self.max_depth = max_depth\n",
    "        self.random_state = random_state\n",
    "        \n",
    "        self.loss_by_iter_ = []\n",
    "        self.residuals_by_iter_ = [] \n",
    "        self.trees_ = []\n",
    "    \n",
    "    def fit(self, X, y):\n",
    "        self.initial_approximation = np.mean(y)\n",
    "        for i in range(self.n_estimators):\n",
    "            predictions = self._piecewise_function(X, i - 1)\n",
    "            residuals_by_iter = -self.objective_grad(y, predictions)\n",
    "            self.residuals_by_iter_.append(residuals_by_iter)\n",
    "            \n",
    "            h = DecisionTreeRegressor(max_depth=self.max_depth, random_state=self.random_state)\n",
    "            h.fit(X, residuals_by_iter)\n",
    "            self.trees_.append(h)\n",
    "            \n",
    "            loss_by_iter = self.objective(y, (predictions.T + self.learning_rate * h.predict(X)).T)\n",
    "            self.loss_by_iter_.append(loss_by_iter)\n",
    "            \n",
    "        if self.classification:\n",
    "            self._select_threshold(X, y)\n",
    "        \n",
    "        return self  \n",
    "         \n",
    "    def _piecewise_function(self, X, t):\n",
    "        result = np.array([self.initial_approximation * np.ones(X.shape[0])])\n",
    "        for j in range(t):\n",
    "            result = result + self.learning_rate * self.trees_[j].predict(X)\n",
    "\n",
    "        return result.T\n",
    "    \n",
    "    def _select_threshold(self, X, y):\n",
    "        probabilities = self.predict_proba(X)\n",
    "        \n",
    "        precisions = []\n",
    "        lspace = np.linspace(0.01, 1.01, 100)\n",
    "        for threshold in lspace:\n",
    "            proba_copy = np.array(probabilities, copy=True)\n",
    "            proba_copy[proba_copy <= threshold] = 0\n",
    "            proba_copy[proba_copy > threshold] = 1\n",
    "            \n",
    "            precision = (y.shape[0] - np.sum(np.abs(proba_copy - y))) / float(y.shape[0])\n",
    "            precisions.append(accuracy_score(y, proba_copy))\n",
    "            \n",
    "        self.threshold = lspace[np.argmax(np.array(precisions))]\n",
    "        print(self.threshold)\n",
    "    \n",
    "    def predict_proba(self, X):\n",
    "        res = self._piecewise_function(X, len(self.trees_))\n",
    "        return self.sigma(res) if self.classification else res\n",
    "\n",
    "    def predict(self, X):\n",
    "        proba = self.predict_proba(X)            \n",
    "        if self.classification:\n",
    "            proba[proba < self.threshold] = 0\n",
    "            proba[proba >= self.threshold] = 1\n",
    "\n",
    "        return proba"
   ]
  },
  {
   "cell_type": "markdown",
   "metadata": {
    "collapsed": true
   },
   "source": [
    "## Регрессия с игрушечным примером"
   ]
  },
  {
   "cell_type": "code",
   "execution_count": 3,
   "metadata": {
    "collapsed": true
   },
   "outputs": [],
   "source": [
    "X_regr_toy = np.arange(7).reshape(-1, 1)\n",
    "y_regr_toy = ((X_regr_toy - 3) ** 2).astype('float64')"
   ]
  },
  {
   "cell_type": "code",
   "execution_count": 4,
   "metadata": {},
   "outputs": [
    {
     "data": {
      "text/plain": [
       "<matplotlib.collections.PathCollection at 0x7f19f22a0ba8>"
      ]
     },
     "execution_count": 4,
     "metadata": {},
     "output_type": "execute_result"
    },
    {
     "data": {
      "image/png": "[encoded data removed]",
      "text/plain": [
       "<matplotlib.figure.Figure at 0x7f1a209fa4a8>"
      ]
     },
     "metadata": {},
     "output_type": "display_data"
    }
   ],
   "source": [
    "plt.scatter(X_regr_toy, y_regr_toy)"
   ]
  },
  {
   "cell_type": "markdown",
   "metadata": {},
   "source": [
    "Обучите регрессор `GradientBoosting` с функцией потерь `MSE` и параметрами `learning_rate`=0.1,  `max_depth`=3 – 200 итераций. Посмотрите на изменение функции потерь по итерациям бустинга. Можно также посмотреть на приближение и остатки на первых нескольких итерациях, как это делалось в статье."
   ]
  },
  {
   "cell_type": "code",
   "execution_count": 52,
   "metadata": {
    "scrolled": true
   },
   "outputs": [
    {
     "data": {
      "text/plain": [
       "GradientBoosting(learning_rate=0.1, loss=None, max_depth=3, n_estimators=200,\n",
       "         random_state=17)"
      ]
     },
     "execution_count": 52,
     "metadata": {},
     "output_type": "execute_result"
    }
   ],
   "source": [
    "gbm = GradientBoosting(loss='mse', n_estimators=200, learning_rate=0.1, max_depth=3)\n",
    "gbm.fit(X_regr_toy, y_regr_toy)"
   ]
  },
  {
   "cell_type": "code",
   "execution_count": 6,
   "metadata": {},
   "outputs": [
    {
     "data": {
      "text/plain": [
       "[<matplotlib.lines.Line2D at 0x7f19f21da240>]"
      ]
     },
     "execution_count": 6,
     "metadata": {},
     "output_type": "execute_result"
    },
    {
     "data": {
      "image/png": "[encoded data removed]",
      "text/plain": [
       "<matplotlib.figure.Figure at 0x7f19f22454e0>"
      ]
     },
     "metadata": {},
     "output_type": "display_data"
    }
   ],
   "source": [
    "plt.plot(gbm.loss_by_iter_)"
   ]
  },
  {
   "cell_type": "code",
   "execution_count": 7,
   "metadata": {},
   "outputs": [
    {
     "name": "stdout",
     "output_type": "stream",
     "text": [
      "[[ 0.81048288  0.13121953 -0.5377867  -0.82350099 -0.5377867   0.1468891\n",
      "   0.81048288]]\n",
      "[[ 0.78662387  0.12735713 -0.51932078 -0.80503507 -0.51932078  0.14307177\n",
      "   0.78662387]]\n",
      "[[ 0.76346721  0.123608   -0.50123436 -0.78694865 -0.50123436  0.13887494\n",
      "   0.76346721]]\n",
      "[[ 0.74099224  0.11996923 -0.48367553 -0.76938982 -0.48367553  0.13478717\n",
      "   0.74099224]]\n",
      "[[ 0.7191789   0.11643757 -0.46663346 -0.75234775 -0.46663346  0.13081932\n",
      "   0.7191789 ]]\n",
      "[[ 0.69800769  0.11300988 -0.45009307 -0.73580736 -0.45009307  0.12696826\n",
      "   0.69800769]]\n",
      "[[ 0.67745972  0.10968309 -0.4340396  -0.71975389 -0.4340396   0.12323056\n",
      "   0.67745972]]\n",
      "[[ 0.65751664  0.10645424 -0.41845871 -0.704173   -0.41845871  0.1196029\n",
      "   0.65751664]]\n",
      "[[ 0.63816065  0.10332043 -0.40333649 -0.68905078 -0.40333649  0.11608202\n",
      "   0.63816065]]\n",
      "[[ 0.61937446  0.10027888 -0.38865944 -0.67437373 -0.38865944  0.1126648\n",
      "   0.61937446]]\n",
      "[[ 0.6011413   0.09732687 -0.37441445 -0.66012874 -0.37441445  0.10934817\n",
      "   0.6011413 ]]\n",
      "[[ 0.58344489  0.09446176 -0.36058881 -0.64630309 -0.36058881  0.10612917\n",
      "   0.58344489]]\n",
      "[[ 0.56626942  0.09168099 -0.34717016 -0.63288445 -0.34717016  0.10300494\n",
      "   0.56626942]]\n",
      "[[ 0.54959957  0.08898209 -0.33414654 -0.61986082 -0.33414654  0.09997268\n",
      "   0.54959957]]\n",
      "[[ 0.53342044  0.08636263 -0.3215063  -0.60722059 -0.3215063   0.09702968\n",
      "   0.53342044]]\n",
      "[[ 0.5177176   0.08382028 -0.30923817 -0.59495246 -0.30923817  0.09417332\n",
      "   0.5177176 ]]\n",
      "[[ 0.50247701  0.08135278 -0.29733119 -0.58304547 -0.29733119  0.09140104\n",
      "   0.50247701]]\n",
      "[[ 0.48768508  0.07895791 -0.28577472 -0.57148901 -0.28577472  0.08871038\n",
      "   0.48768508]]\n",
      "[[ 0.47332859  0.07663355 -0.27455846 -0.56027274 -0.27455846  0.08609892\n",
      "   0.47332859]]\n",
      "[[ 0.45939473  0.07437761 -0.26367238 -0.54938666 -0.26367238  0.08356434\n",
      "   0.45939473]]\n"
     ]
    }
   ],
   "source": [
    "for residuals in gbm.residuals_by_iter_[20:40]:\n",
    "    print (np.array(residuals).T)"
   ]
  },
  {
   "cell_type": "code",
   "execution_count": 8,
   "metadata": {},
   "outputs": [
    {
     "data": {
      "text/plain": [
       "<matplotlib.collections.PathCollection at 0x7f19f214d780>"
      ]
     },
     "execution_count": 8,
     "metadata": {},
     "output_type": "execute_result"
    },
    {
     "data": {
      "image/png": "[encoded data removed]",
      "text/plain": [
       "<matplotlib.figure.Figure at 0x7f1a01b8e278>"
      ]
     },
     "metadata": {},
     "output_type": "display_data"
    }
   ],
   "source": [
    "plt.scatter(X_regr_toy, gbm.predict(X_regr_toy))"
   ]
  },
  {
   "cell_type": "markdown",
   "metadata": {},
   "source": [
    "Обучите регрессор `GradientBoosting` с теми же параметрами, но функцию потерь измените на `RMSLE`. Посмотрите на те же картинки. "
   ]
  },
  {
   "cell_type": "code",
   "execution_count": 9,
   "metadata": {},
   "outputs": [
    {
     "data": {
      "text/plain": [
       "GradientBoosting(learning_rate=0.5, loss=None, max_depth=3, n_estimators=200,\n",
       "         random_state=17)"
      ]
     },
     "execution_count": 9,
     "metadata": {},
     "output_type": "execute_result"
    }
   ],
   "source": [
    "gbm = GradientBoosting(loss='rmsle', n_estimators=200, learning_rate=0.5, max_depth=3)\n",
    "gbm.fit(X_regr_toy, y_regr_toy)"
   ]
  },
  {
   "cell_type": "code",
   "execution_count": 10,
   "metadata": {},
   "outputs": [
    {
     "data": {
      "text/plain": [
       "[<matplotlib.lines.Line2D at 0x7f19f20ce630>]"
      ]
     },
     "execution_count": 10,
     "metadata": {},
     "output_type": "execute_result"
    },
    {
     "data": {
      "image/png": "[encoded data removed]",
      "text/plain": [
       "<matplotlib.figure.Figure at 0x7f19f20f28d0>"
      ]
     },
     "metadata": {},
     "output_type": "display_data"
    }
   ],
   "source": [
    "plt.plot(gbm.loss_by_iter_)"
   ]
  },
  {
   "cell_type": "code",
   "execution_count": 11,
   "metadata": {},
   "outputs": [
    {
     "name": "stdout",
     "output_type": "stream",
     "text": [
      "[[ 0.02291079 -0.         -0.03028642 -0.05319721 -0.03028642 -0.\n",
      "   0.02291079]]\n",
      "[[ 0.02291079 -0.         -0.03028642 -0.05319721 -0.03028642 -0.\n",
      "   0.02291079]]\n",
      "[[ 0.02285512 -0.         -0.03037377 -0.05345013 -0.03037043 -0.\n",
      "   0.02285512]]\n",
      "[[ 0.02280004 -0.         -0.03046156 -0.05370523 -0.03045453 -0.\n",
      "   0.02280004]]\n",
      "[[ 0.02274606 -0.         -0.03054637 -0.05396333 -0.03054271 -0.\n",
      "   0.02274606]]\n",
      "[[ 0.02269318 -0.         -0.03063148 -0.0542245  -0.03063157 -0.\n",
      "   0.02269318]]\n",
      "[[ 0.02264139 -0.         -0.03071687 -0.05448879 -0.03072112 -0.\n",
      "   0.02264139]]\n",
      "[[ 0.02259069 -0.         -0.03080696 -0.05475627 -0.03080702 -0.\n",
      "   0.02259069]]\n",
      "[[ 0.02254108 -0.         -0.03089777 -0.05502701 -0.03089321 -0.\n",
      "   0.02254108]]\n",
      "[[ 0.02249256 -0.         -0.03098931 -0.05530107 -0.03097966 -0.\n",
      "   0.02249256]]\n",
      "[[ 0.02244514 -0.         -0.03107653 -0.05557853 -0.03107158 -0.\n",
      "   0.02244514]]\n",
      "[[ 0.02239881 -0.         -0.03116401 -0.05585946 -0.03116426 -0.\n",
      "   0.02239881]]\n",
      "[[ 0.02235357 -0.         -0.03125175 -0.05614392 -0.0312577  -0.\n",
      "   0.02235357]]\n",
      "[[ 0.02230942 -0.         -0.03134576 -0.056432   -0.03134598 -0.\n",
      "   0.02230942]]\n",
      "[[ 0.02226638 -0.         -0.03144055 -0.05672377 -0.0314345  -0.\n",
      "   0.02226638]]\n",
      "[[ 0.02222443 -0.         -0.03153615 -0.05701932 -0.03152325 -0.\n",
      "   0.02222443]]\n",
      "[[ 0.02218358 -0.         -0.03162573 -0.05731873 -0.03161923 -0.\n",
      "   0.02218358]]\n",
      "[[ 0.02214385 -0.         -0.03171554 -0.05762209 -0.03171603 -0.\n",
      "   0.02214385]]\n",
      "[[ 0.02210522 -0.         -0.03180555 -0.05792947 -0.03181367 -0.\n",
      "   0.02210522]]\n",
      "[[ 0.0220677  -0.         -0.03190377 -0.05824096 -0.03190425 -0.\n",
      "   0.0220677 ]]\n"
     ]
    }
   ],
   "source": [
    "for residuals in gbm.residuals_by_iter_[0:20]:\n",
    "    print (np.array(residuals).T)"
   ]
  },
  {
   "cell_type": "code",
   "execution_count": 12,
   "metadata": {},
   "outputs": [
    {
     "data": {
      "text/plain": [
       "<matplotlib.collections.PathCollection at 0x7f19f203fd30>"
      ]
     },
     "execution_count": 12,
     "metadata": {},
     "output_type": "execute_result"
    },
    {
     "data": {
      "image/png": "[encoded data removed]",
      "text/plain": [
       "<matplotlib.figure.Figure at 0x7f19f2172ef0>"
      ]
     },
     "metadata": {},
     "output_type": "display_data"
    }
   ],
   "source": [
    "plt.scatter(X_regr_toy, gbm.predict(X_regr_toy))"
   ]
  },
  {
   "cell_type": "markdown",
   "metadata": {},
   "source": [
    "## Классификация с игрушечным примером"
   ]
  },
  {
   "cell_type": "code",
   "execution_count": 38,
   "metadata": {
    "collapsed": true
   },
   "outputs": [],
   "source": [
    "X_clf_toy = np.c_[np.arange(7), (np.arange(7) - 3) ** 2]\n",
    "y_clf_toy = np.array([0, 1, 0, 1, 0, 1, 0])"
   ]
  },
  {
   "cell_type": "code",
   "execution_count": 39,
   "metadata": {},
   "outputs": [
    {
     "data": {
      "image/png": "[encoded data removed]",
      "text/plain": [
       "<matplotlib.figure.Figure at 0x7f19f207dcc0>"
      ]
     },
     "metadata": {},
     "output_type": "display_data"
    }
   ],
   "source": [
    "plt.scatter(X_clf_toy[:, 0], X_clf_toy[:, 1], c=y_clf_toy);"
   ]
  },
  {
   "cell_type": "code",
   "execution_count": 91,
   "metadata": {},
   "outputs": [
    {
     "name": "stdout",
     "output_type": "stream",
     "text": [
      "0.01\n"
     ]
    },
    {
     "data": {
      "text/plain": [
       "GradientBoosting(learning_rate=0.05, loss=None, max_depth=3, n_estimators=10,\n",
       "         random_state=17)"
      ]
     },
     "execution_count": 91,
     "metadata": {},
     "output_type": "execute_result"
    }
   ],
   "source": [
    "gbm = GradientBoosting(loss='log_loss', n_estimators=10, learning_rate=0.05, max_depth=3)\n",
    "gbm.fit(X_clf_toy, np.array([y_clf_toy]).T)"
   ]
  },
  {
   "cell_type": "code",
   "execution_count": 92,
   "metadata": {},
   "outputs": [
    {
     "data": {
      "text/plain": [
       "[<matplotlib.lines.Line2D at 0x7f19f19519b0>]"
      ]
     },
     "execution_count": 92,
     "metadata": {},
     "output_type": "execute_result"
    },
    {
     "data": {
      "image/png": "[encoded data removed]",
      "text/plain": [
       "<matplotlib.figure.Figure at 0x7f19f19ac668>"
      ]
     },
     "metadata": {},
     "output_type": "display_data"
    }
   ],
   "source": [
    "plt.plot(gbm.loss_by_iter_)"
   ]
  },
  {
   "cell_type": "code",
   "execution_count": 55,
   "metadata": {},
   "outputs": [
    {
     "name": "stdout",
     "output_type": "stream",
     "text": [
      "[[-2.53506301  1.65143906 -2.53506301  1.65143906 -2.53506301  1.65143906\n",
      "  -2.53506301]]\n",
      "[[-2.53506301  1.65143906 -2.53506301  1.65143906 -2.53506301  1.65143906\n",
      "  -2.53506301]]\n",
      "[[-2.35231546  1.59980938 -2.35231546  1.59980938 -2.35231546  1.59980938\n",
      "  -2.35231546]]\n",
      "[[-2.1913238   1.55227159 -2.1913238   1.55227159 -2.1913238   1.55227159\n",
      "  -2.1913238 ]]\n",
      "[[-2.05913163  1.5098158  -2.05913163  1.5098158  -2.05913163  1.5098158\n",
      "  -2.05913163]]\n",
      "[[-1.94921796  1.47174373 -1.94921796  1.47174373 -1.94921796  1.47174373\n",
      "  -1.94921796]]\n",
      "[[-1.8563523   1.43744243 -1.8563523   1.43744243 -1.8563523   1.43744243\n",
      "  -1.8563523 ]]\n",
      "[[-1.77682956  1.40640814 -1.77682956  1.40640814 -1.77682956  1.40640814\n",
      "  -1.77682956]]\n",
      "[[-1.70797115  1.37822369 -1.70797115  1.37822369 -1.70797115  1.37822369\n",
      "  -1.70797115]]\n",
      "[[-1.64778696  1.35254046 -1.64778696  1.35254046 -1.64778696  1.35254046\n",
      "  -1.64778696]]\n"
     ]
    }
   ],
   "source": [
    "for residuals in gbm.residuals_by_iter_:\n",
    "    print (np.array(residuals).T)"
   ]
  },
  {
   "cell_type": "code",
   "execution_count": 77,
   "metadata": {},
   "outputs": [
    {
     "data": {
      "text/plain": [
       "array([[ 0.],\n",
       "       [ 1.],\n",
       "       [ 0.],\n",
       "       [ 1.],\n",
       "       [ 0.],\n",
       "       [ 1.],\n",
       "       [ 0.]])"
      ]
     },
     "execution_count": 77,
     "metadata": {},
     "output_type": "execute_result"
    }
   ],
   "source": [
    "gbm.predict(X_clf_toy)"
   ]
  },
  {
   "cell_type": "code",
   "execution_count": 82,
   "metadata": {},
   "outputs": [
    {
     "data": {
      "text/plain": [
       "array([[ 0.44795143],\n",
       "       [ 0.76204901],\n",
       "       [ 0.44795143],\n",
       "       [ 0.76204901],\n",
       "       [ 0.44795143],\n",
       "       [ 0.76204901],\n",
       "       [ 0.44795143]])"
      ]
     },
     "execution_count": 82,
     "metadata": {},
     "output_type": "execute_result"
    }
   ],
   "source": [
    "gbm.predict_proba(X_clf_toy)"
   ]
  },
  {
   "cell_type": "markdown",
   "metadata": {},
   "source": [
    "Обучите классификатор `GradientBoosting` с функцией потерь `log_loss` и параметрами `learning_rate`=0.05,  `max_depth`=3 – 10 итераций. Посмотрите на изменение функции потерь по итерациям бустинга. Можно также посмотреть на приближение и остатки на первых нескольких итерациях, как это делалось в статье.\n",
    "\n",
    "\n",
    "\n",
    "<font color='red'>Вопрос 4.</font> Посчитайте предсказанные вероятности отнесения к классу +1 для всех 7 объектов игрушечной выборки. Каковы 2 уникальных значения в полученном векторе?\n",
    "1. 0.42 и 0.77\n",
    "2. 0.36 и 0.82\n",
    "3. 0.48 и 0.53\n",
    "4. 0.46 и 0.75"
   ]
  },
  {
   "cell_type": "markdown",
   "metadata": {},
   "source": [
    "## Регрессия с UCI boston"
   ]
  },
  {
   "cell_type": "code",
   "execution_count": 20,
   "metadata": {
    "collapsed": true
   },
   "outputs": [],
   "source": [
    "boston = load_boston()\n",
    "X, y = boston.data, boston.target"
   ]
  },
  {
   "cell_type": "code",
   "execution_count": 21,
   "metadata": {
    "collapsed": true
   },
   "outputs": [],
   "source": [
    "X_train, X_test, y_train, y_test = train_test_split(X, y, test_size=0.3, random_state=17)"
   ]
  },
  {
   "cell_type": "markdown",
   "metadata": {},
   "source": [
    "- Обучите регрессор `GradientBoosting` с функцией потерь `MSE` и параметрами `learning_rate`=3,  `max_depth`=10 – 300 итераций\n",
    "- Посмотрите на изменение функции потерь по итерациям бустинга\n",
    "- Сделайте прогнозы для отложенной выборки\n",
    "- Постройте распределение ответов `y_test` на отложенной выборке и наложите на него распределение ответов бустинга `test_pred`. Используйте метод `hist` из `matplotlib.pyplot` с параметром `bins=15`\n",
    "\n",
    "<font color='red'>Вопрос 5.</font> Выберите верное утверждение про гистограммы:\n",
    "1. Ответы бустинга в среднем завышены на 10 \n",
    "2. **В бине, в который попадает медиана ответов на тестовой выборке (`numpy.median(y_test)`), больше значений из вектора прогнозов `test_pred`, чем из вектора ответов `y_test`**\n",
    "3. Бустинг иногда прогнозирует значения, сильно выпадающие за диапазон изменения ответов `y_test`"
   ]
  },
  {
   "cell_type": "code",
   "execution_count": 22,
   "metadata": {},
   "outputs": [
    {
     "data": {
      "text/plain": [
       "GradientBoosting(learning_rate=3, loss=None, max_depth=10, n_estimators=300,\n",
       "         random_state=17)"
      ]
     },
     "execution_count": 22,
     "metadata": {},
     "output_type": "execute_result"
    }
   ],
   "source": [
    "gbm = GradientBoosting(loss='mse', n_estimators=300, learning_rate=3, max_depth=10)\n",
    "gbm.fit(X_train, np.array([y_train]).T)"
   ]
  },
  {
   "cell_type": "code",
   "execution_count": 23,
   "metadata": {},
   "outputs": [
    {
     "data": {
      "text/plain": [
       "[<matplotlib.lines.Line2D at 0x7f19f1eabf98>]"
      ]
     },
     "execution_count": 23,
     "metadata": {},
     "output_type": "execute_result"
    },
    {
     "data": {
      "image/png": "[encoded data removed]",
      "text/plain": [
       "<matplotlib.figure.Figure at 0x7f19f1f32eb8>"
      ]
     },
     "metadata": {},
     "output_type": "display_data"
    }
   ],
   "source": [
    "plt.plot(gbm.loss_by_iter_)"
   ]
  },
  {
   "cell_type": "code",
   "execution_count": 24,
   "metadata": {},
   "outputs": [
    {
     "data": {
      "image/png": "[encoded data removed]",
      "text/plain": [
       "<matplotlib.figure.Figure at 0x7f19f1eba438>"
      ]
     },
     "metadata": {},
     "output_type": "display_data"
    },
    {
     "name": "stdout",
     "output_type": "stream",
     "text": [
      "21.3\n"
     ]
    }
   ],
   "source": [
    "predictions = gbm.predict(X_test)\n",
    "pyplot.hist(predictions, bins=15, label=\"test\", alpha=0.5)\n",
    "pyplot.hist(y, bins=15, label=\"true\", alpha=0.5)\n",
    "pyplot.legend(loc='upper right')\n",
    "pyplot.show()\n",
    "print (np.median(y_test))"
   ]
  },
  {
   "cell_type": "markdown",
   "metadata": {},
   "source": [
    "## Классификация с UCI breast cancer"
   ]
  },
  {
   "cell_type": "code",
   "execution_count": 83,
   "metadata": {
    "collapsed": true
   },
   "outputs": [],
   "source": [
    "cancer = load_breast_cancer()\n",
    "X, y = cancer.data, cancer.target"
   ]
  },
  {
   "cell_type": "code",
   "execution_count": 84,
   "metadata": {
    "collapsed": true
   },
   "outputs": [],
   "source": [
    "X_train, X_test, y_train, y_test = train_test_split(X, y, test_size=0.3, random_state=17)"
   ]
  },
  {
   "cell_type": "markdown",
   "metadata": {},
   "source": [
    "Обучите классификатор `GradientBoosting` с функцией потерь `log_loss` и параметрами `learning_rate`=0.01,  `max_depth`=3 – 200 итераций. Посмотрите на изменение функции потерь по итерациям бустинга. Сделайте прогнозы для отложенной выборки – как предсказанные вероятности отнесения к классу +1, так и бинарные прогнозы. Посчитайте ROC AUC для прогноза в виде вероятностей и долю правильных ответов для прогноза в виде меток классов.\n",
    "\n",
    "<font color='red'>Вопрос 6.</font> Каковы получаются ROC AUC и доля правильных ответов на отложенной выборке `(X_test, y_test)`?\n",
    "1. 0.99 и 0.97\n",
    "2. 1 и 0.97\n",
    "3. **0.98 и 0.96**\n",
    "4. 0.97 и 0.95"
   ]
  },
  {
   "cell_type": "code",
   "execution_count": 85,
   "metadata": {},
   "outputs": [
    {
     "name": "stdout",
     "output_type": "stream",
     "text": [
      "0.616060606061\n"
     ]
    },
    {
     "data": {
      "text/plain": [
       "GradientBoosting(learning_rate=0.01, loss=None, max_depth=3, n_estimators=200,\n",
       "         random_state=17)"
      ]
     },
     "execution_count": 85,
     "metadata": {},
     "output_type": "execute_result"
    }
   ],
   "source": [
    "gbm = GradientBoosting(loss='log_loss', n_estimators=200, learning_rate=0.01, max_depth=3)\n",
    "gbm.fit(X_train, np.array([y_train]).T)"
   ]
  },
  {
   "cell_type": "code",
   "execution_count": 86,
   "metadata": {},
   "outputs": [
    {
     "data": {
      "text/plain": [
       "[<matplotlib.lines.Line2D at 0x7f19f1966278>]"
      ]
     },
     "execution_count": 86,
     "metadata": {},
     "output_type": "execute_result"
    },
    {
     "data": {
      "image/png": "[encoded data removed]",
      "text/plain": [
       "<matplotlib.figure.Figure at 0x7f19f19f2b70>"
      ]
     },
     "metadata": {},
     "output_type": "display_data"
    }
   ],
   "source": [
    "plt.plot(gbm.loss_by_iter_)"
   ]
  },
  {
   "cell_type": "code",
   "execution_count": 87,
   "metadata": {
    "collapsed": true
   },
   "outputs": [],
   "source": [
    "preds_proba = gbm.predict_proba(X_test)\n",
    "preds = gbm.predict(X_test)"
   ]
  },
  {
   "cell_type": "code",
   "execution_count": 88,
   "metadata": {},
   "outputs": [
    {
     "name": "stdout",
     "output_type": "stream",
     "text": [
      "0.988524590164\n"
     ]
    }
   ],
   "source": [
    "print (roc_auc_score(y_test, preds_proba))"
   ]
  },
  {
   "cell_type": "code",
   "execution_count": 89,
   "metadata": {},
   "outputs": [
    {
     "name": "stdout",
     "output_type": "stream",
     "text": [
      "0.964912280702\n"
     ]
    }
   ],
   "source": [
    "print ((y_test.shape[0] - np.sum(np.abs(preds.flatten() - y_test))) / float(y_test.shape[0]))"
   ]
  }
 ],
 "metadata": {
  "anaconda-cloud": {},
  "kernelspec": {
   "display_name": "Python [default]",
   "language": "python",
   "name": "python3"
  },
  "language_info": {
   "codemirror_mode": {
    "name": "ipython",
    "version": 3
   },
   "file_extension": ".py",
   "mimetype": "text/x-python",
   "name": "python",
   "nbconvert_exporter": "python",
   "pygments_lexer": "ipython3",
   "version": "3.5.3"
  }
 },
 "nbformat": 4,
 "nbformat_minor": 2
}

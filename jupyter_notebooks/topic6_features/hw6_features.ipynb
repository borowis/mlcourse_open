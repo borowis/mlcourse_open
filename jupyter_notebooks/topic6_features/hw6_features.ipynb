{
 "cells": [
  {
   "cell_type": "markdown",
   "metadata": {
    "deletable": true,
    "editable": true
   },
   "source": [
    "<center>\n",
    "<img src=\"../../img/ods_stickers.jpg\">\n",
    "## <center>Открытый курс по машинному обучению\n",
    "<center> Автор материала: Data Science Team Lead в Juno Арсений Кравченко\n"
   ]
  },
  {
   "cell_type": "markdown",
   "metadata": {
    "deletable": true,
    "editable": true
   },
   "source": [
    "# <center>Домашнее задание № 6. Работа с признаками"
   ]
  },
  {
   "cell_type": "markdown",
   "metadata": {
    "deletable": true,
    "editable": true
   },
   "source": [
    "В этом задании мы будем работать с [данными](https://www.kaggle.com/c/two-sigma-connect-rental-listing-inquiries/data) соревнования Kaggle \"Two Sigma Connect: Rental Listing Inquiries\". Ответы на вопросы заполните в [веб-форме](https://goo.gl/forms/WmKWYpvK8kgjbP8j2)."
   ]
  },
  {
   "cell_type": "markdown",
   "metadata": {
    "deletable": true,
    "editable": true
   },
   "source": [
    "<font color='red'>Вопрос 1.</font> При каком значении lmbda, выражение np.log(x) == scipy.stats.boxcox(x, lmbda=lmbda) будет истинным?\n",
    "- 1\n",
    "- 0\n",
    "- $\\frac{1}{x}$\n",
    "- $1 + x$"
   ]
  },
  {
   "cell_type": "code",
   "execution_count": 4,
   "metadata": {
    "collapsed": false
   },
   "outputs": [],
   "source": [
    "import numpy as np\n",
    "import scipy"
   ]
  },
  {
   "cell_type": "markdown",
   "metadata": {
    "deletable": true,
    "editable": true
   },
   "source": [
    "<font color='red'>Вопрос 2.</font> Переменная ``created`` является признаком, содержащим ``datetime``, это объект класса ``pandas.tslib.Timestamp``. Какой способ извлечения признаков будет наименее полезным?\n",
    "- created.weekday() * 24 + created.hour\n",
    "- str(created) c последующим one hot encoding\n",
    "- created.weekday()\n",
    "- created.hour"
   ]
  },
  {
   "cell_type": "markdown",
   "metadata": {
    "deletable": true,
    "editable": true
   },
   "source": [
    "<font color='red'>Вопрос 3. </font> Какую информацию нельзя извлечь из User-Agent?\n",
    "- Версия операционной системы\n",
    "- Разрешение экрана пользователя\n",
    "- Платформу, на базе которой построен браузер\n",
    "- Принадлежит ли запрос роботу-индексатору Яндекса"
   ]
  },
  {
   "cell_type": "markdown",
   "metadata": {
    "deletable": true,
    "editable": true
   },
   "source": [
    "<font color='red'>Вопрос 4. </font> Мы решаем задачу классификации: есть пары фотографий, нужно определить, являются ли они фотографиями одного и того же объекта. Какой признак будет наиболее релевантен? \n",
    "- Расстояние Левенштейна между названиями моделей фотоаппаратов, данные о модели получены из EXIF\n",
    "- Евклидово расстояние между векторами, полученными из предобученной сети ResNet без полносвязных слоев\n",
    "- Разница (в днях) между датами съемки фотографий, даты съемки получены из EXIF\n",
    "- Разность средней яркости во всех (RGB) каналах обоих изображений"
   ]
  },
  {
   "cell_type": "markdown",
   "metadata": {
    "deletable": true,
    "editable": true
   },
   "source": [
    "<font color='red'>Вопрос 5.</font> Для какой из задач отбор признаков (feature selection) будет бесполезен?\n",
    "- Ускорение модели на этапе обучения\n",
    "- Ускорение модели на этапе предсказания\n",
    "- Борьба со слишком большими значениями признаков, ведущими к переполнению\n",
    "- Повышение устойчивости модели"
   ]
  },
  {
   "cell_type": "code",
   "execution_count": 5,
   "metadata": {
    "collapsed": true,
    "deletable": true,
    "editable": true
   },
   "outputs": [],
   "source": [
    "import pandas as pd"
   ]
  },
  {
   "cell_type": "markdown",
   "metadata": {
    "deletable": true,
    "editable": true
   },
   "source": [
    "Поменяйте на свой путь к данным ``train.json``, этот файл вы получите после разархивации скачанного с Kaggle ``train.json.zip`` (по правилам Kaggle данные этого соревнования мы не можем распространять)."
   ]
  },
  {
   "cell_type": "code",
   "execution_count": 6,
   "metadata": {
    "collapsed": false,
    "deletable": true,
    "editable": true
   },
   "outputs": [],
   "source": [
    "data = pd.read_json('train.json')"
   ]
  },
  {
   "cell_type": "code",
   "execution_count": 8,
   "metadata": {
    "collapsed": false,
    "deletable": true,
    "editable": true
   },
   "outputs": [
    {
     "data": {
      "text/html": [
       "<div>\n",
       "<table border=\"1\" class=\"dataframe\">\n",
       "  <thead>\n",
       "    <tr style=\"text-align: right;\">\n",
       "      <th></th>\n",
       "      <th>bathrooms</th>\n",
       "      <th>bedrooms</th>\n",
       "      <th>building_id</th>\n",
       "      <th>created</th>\n",
       "      <th>description</th>\n",
       "      <th>display_address</th>\n",
       "      <th>features</th>\n",
       "      <th>interest_level</th>\n",
       "      <th>latitude</th>\n",
       "      <th>listing_id</th>\n",
       "      <th>longitude</th>\n",
       "      <th>manager_id</th>\n",
       "      <th>photos</th>\n",
       "      <th>price</th>\n",
       "      <th>street_address</th>\n",
       "    </tr>\n",
       "  </thead>\n",
       "  <tbody>\n",
       "    <tr>\n",
       "      <th>10</th>\n",
       "      <td>1.5</td>\n",
       "      <td>3</td>\n",
       "      <td>53a5b119ba8f7b61d4e010512e0dfc85</td>\n",
       "      <td>2016-06-24 07:54:24</td>\n",
       "      <td>A Brand New 3 Bedroom 1.5 bath ApartmentEnjoy ...</td>\n",
       "      <td>Metropolitan Avenue</td>\n",
       "      <td>[]</td>\n",
       "      <td>medium</td>\n",
       "      <td>40.7145</td>\n",
       "      <td>7211212</td>\n",
       "      <td>-73.9425</td>\n",
       "      <td>5ba989232d0489da1b5f2c45f6688adc</td>\n",
       "      <td>[https://photos.renthop.com/2/7211212_1ed4542e...</td>\n",
       "      <td>3000</td>\n",
       "      <td>792 Metropolitan Avenue</td>\n",
       "    </tr>\n",
       "    <tr>\n",
       "      <th>10000</th>\n",
       "      <td>1.0</td>\n",
       "      <td>2</td>\n",
       "      <td>c5c8a357cba207596b04d1afd1e4f130</td>\n",
       "      <td>2016-06-12 12:19:27</td>\n",
       "      <td></td>\n",
       "      <td>Columbus Avenue</td>\n",
       "      <td>[Doorman, Elevator, Fitness Center, Cats Allow...</td>\n",
       "      <td>low</td>\n",
       "      <td>40.7947</td>\n",
       "      <td>7150865</td>\n",
       "      <td>-73.9667</td>\n",
       "      <td>7533621a882f71e25173b27e3139d83d</td>\n",
       "      <td>[https://photos.renthop.com/2/7150865_be3306c5...</td>\n",
       "      <td>5465</td>\n",
       "      <td>808 Columbus Avenue</td>\n",
       "    </tr>\n",
       "    <tr>\n",
       "      <th>100004</th>\n",
       "      <td>1.0</td>\n",
       "      <td>1</td>\n",
       "      <td>c3ba40552e2120b0acfc3cb5730bb2aa</td>\n",
       "      <td>2016-04-17 03:26:41</td>\n",
       "      <td>Top Top West Village location, beautiful Pre-w...</td>\n",
       "      <td>W 13 Street</td>\n",
       "      <td>[Laundry In Building, Dishwasher, Hardwood Flo...</td>\n",
       "      <td>high</td>\n",
       "      <td>40.7388</td>\n",
       "      <td>6887163</td>\n",
       "      <td>-74.0018</td>\n",
       "      <td>d9039c43983f6e564b1482b273bd7b01</td>\n",
       "      <td>[https://photos.renthop.com/2/6887163_de85c427...</td>\n",
       "      <td>2850</td>\n",
       "      <td>241 W 13 Street</td>\n",
       "    </tr>\n",
       "    <tr>\n",
       "      <th>100007</th>\n",
       "      <td>1.0</td>\n",
       "      <td>1</td>\n",
       "      <td>28d9ad350afeaab8027513a3e52ac8d5</td>\n",
       "      <td>2016-04-18 02:22:02</td>\n",
       "      <td>Building Amenities - Garage - Garden - fitness...</td>\n",
       "      <td>East 49th Street</td>\n",
       "      <td>[Hardwood Floors, No Fee]</td>\n",
       "      <td>low</td>\n",
       "      <td>40.7539</td>\n",
       "      <td>6888711</td>\n",
       "      <td>-73.9677</td>\n",
       "      <td>1067e078446a7897d2da493d2f741316</td>\n",
       "      <td>[https://photos.renthop.com/2/6888711_6e660cee...</td>\n",
       "      <td>3275</td>\n",
       "      <td>333 East 49th Street</td>\n",
       "    </tr>\n",
       "    <tr>\n",
       "      <th>100013</th>\n",
       "      <td>1.0</td>\n",
       "      <td>4</td>\n",
       "      <td>0</td>\n",
       "      <td>2016-04-28 01:32:41</td>\n",
       "      <td>Beautifully renovated 3 bedroom flex 4 bedroom...</td>\n",
       "      <td>West 143rd Street</td>\n",
       "      <td>[Pre-War]</td>\n",
       "      <td>low</td>\n",
       "      <td>40.8241</td>\n",
       "      <td>6934781</td>\n",
       "      <td>-73.9493</td>\n",
       "      <td>98e13ad4b495b9613cef886d79a6291f</td>\n",
       "      <td>[https://photos.renthop.com/2/6934781_1fa4b41a...</td>\n",
       "      <td>3350</td>\n",
       "      <td>500 West 143rd Street</td>\n",
       "    </tr>\n",
       "  </tbody>\n",
       "</table>\n",
       "</div>"
      ],
      "text/plain": [
       "        bathrooms  bedrooms                       building_id  \\\n",
       "10            1.5         3  53a5b119ba8f7b61d4e010512e0dfc85   \n",
       "10000         1.0         2  c5c8a357cba207596b04d1afd1e4f130   \n",
       "100004        1.0         1  c3ba40552e2120b0acfc3cb5730bb2aa   \n",
       "100007        1.0         1  28d9ad350afeaab8027513a3e52ac8d5   \n",
       "100013        1.0         4                                 0   \n",
       "\n",
       "                    created  \\\n",
       "10      2016-06-24 07:54:24   \n",
       "10000   2016-06-12 12:19:27   \n",
       "100004  2016-04-17 03:26:41   \n",
       "100007  2016-04-18 02:22:02   \n",
       "100013  2016-04-28 01:32:41   \n",
       "\n",
       "                                              description  \\\n",
       "10      A Brand New 3 Bedroom 1.5 bath ApartmentEnjoy ...   \n",
       "10000                                                       \n",
       "100004  Top Top West Village location, beautiful Pre-w...   \n",
       "100007  Building Amenities - Garage - Garden - fitness...   \n",
       "100013  Beautifully renovated 3 bedroom flex 4 bedroom...   \n",
       "\n",
       "            display_address  \\\n",
       "10      Metropolitan Avenue   \n",
       "10000       Columbus Avenue   \n",
       "100004          W 13 Street   \n",
       "100007     East 49th Street   \n",
       "100013    West 143rd Street   \n",
       "\n",
       "                                                 features interest_level  \\\n",
       "10                                                     []         medium   \n",
       "10000   [Doorman, Elevator, Fitness Center, Cats Allow...            low   \n",
       "100004  [Laundry In Building, Dishwasher, Hardwood Flo...           high   \n",
       "100007                          [Hardwood Floors, No Fee]            low   \n",
       "100013                                          [Pre-War]            low   \n",
       "\n",
       "        latitude  listing_id  longitude                        manager_id  \\\n",
       "10       40.7145     7211212   -73.9425  5ba989232d0489da1b5f2c45f6688adc   \n",
       "10000    40.7947     7150865   -73.9667  7533621a882f71e25173b27e3139d83d   \n",
       "100004   40.7388     6887163   -74.0018  d9039c43983f6e564b1482b273bd7b01   \n",
       "100007   40.7539     6888711   -73.9677  1067e078446a7897d2da493d2f741316   \n",
       "100013   40.8241     6934781   -73.9493  98e13ad4b495b9613cef886d79a6291f   \n",
       "\n",
       "                                                   photos  price  \\\n",
       "10      [https://photos.renthop.com/2/7211212_1ed4542e...   3000   \n",
       "10000   [https://photos.renthop.com/2/7150865_be3306c5...   5465   \n",
       "100004  [https://photos.renthop.com/2/6887163_de85c427...   2850   \n",
       "100007  [https://photos.renthop.com/2/6888711_6e660cee...   3275   \n",
       "100013  [https://photos.renthop.com/2/6934781_1fa4b41a...   3350   \n",
       "\n",
       "                 street_address  \n",
       "10      792 Metropolitan Avenue  \n",
       "10000       808 Columbus Avenue  \n",
       "100004          241 W 13 Street  \n",
       "100007     333 East 49th Street  \n",
       "100013    500 West 143rd Street  "
      ]
     },
     "execution_count": 8,
     "metadata": {},
     "output_type": "execute_result"
    }
   ],
   "source": [
    "data.head()"
   ]
  },
  {
   "cell_type": "code",
   "execution_count": 9,
   "metadata": {
    "collapsed": false
   },
   "outputs": [
    {
     "data": {
      "text/plain": [
       "(49352, 15)"
      ]
     },
     "execution_count": 9,
     "metadata": {},
     "output_type": "execute_result"
    }
   ],
   "source": [
    "data.shape"
   ]
  },
  {
   "cell_type": "code",
   "execution_count": 10,
   "metadata": {
    "collapsed": false
   },
   "outputs": [
    {
     "name": "stdout",
     "output_type": "stream",
     "text": [
      "<class 'pandas.core.frame.DataFrame'>\n",
      "Int64Index: 49352 entries, 10 to 99994\n",
      "Data columns (total 15 columns):\n",
      "bathrooms          49352 non-null float64\n",
      "bedrooms           49352 non-null int64\n",
      "building_id        49352 non-null object\n",
      "created            49352 non-null object\n",
      "description        49352 non-null object\n",
      "display_address    49352 non-null object\n",
      "features           49352 non-null object\n",
      "interest_level     49352 non-null object\n",
      "latitude           49352 non-null float64\n",
      "listing_id         49352 non-null int64\n",
      "longitude          49352 non-null float64\n",
      "manager_id         49352 non-null object\n",
      "photos             49352 non-null object\n",
      "price              49352 non-null int64\n",
      "street_address     49352 non-null object\n",
      "dtypes: float64(3), int64(3), object(9)\n",
      "memory usage: 6.0+ MB\n"
     ]
    }
   ],
   "source": [
    "data.info()"
   ]
  },
  {
   "cell_type": "markdown",
   "metadata": {},
   "source": [
    "<font color='red'>Вопрос 6.</font> В каком из районов находится точка с координатами (40.825142, -73.909171)?"
   ]
  },
  {
   "cell_type": "code",
   "execution_count": 20,
   "metadata": {
    "collapsed": false
   },
   "outputs": [],
   "source": [
    "''' ВАШ КОД ЗДЕСЬ '''\n",
    "def haversine(row):\n",
    "    lon1 = 40.825142\n",
    "    lat1 = -73.909171\n",
    "    lon2 = row['longitude']\n",
    "    lat2 = row['latitude']\n",
    "    lon1, lat1, lon2, lat2 = map(np.radians, [lon1, lat1, lon2, lat2])\n",
    "    dlon = lon2 - lon1 \n",
    "    dlat = lat2 - lat1 \n",
    "    a = np.sin(dlat/2)**2 + np.cos(lat1) * np.cos(lat2) * np.sin(dlon/2)**2\n",
    "    c = 2 * np.arcsin(np.sqrt(a)) \n",
    "    km = 6367 * c\n",
    "    return km\n",
    "\n",
    "data['distance'] = data.apply(lambda row: haversine(row), axis=1)"
   ]
  },
  {
   "cell_type": "code",
   "execution_count": 22,
   "metadata": {
    "collapsed": false
   },
   "outputs": [
    {
     "data": {
      "text/html": [
       "<div>\n",
       "<table border=\"1\" class=\"dataframe\">\n",
       "  <thead>\n",
       "    <tr style=\"text-align: right;\">\n",
       "      <th></th>\n",
       "      <th>bathrooms</th>\n",
       "      <th>bedrooms</th>\n",
       "      <th>building_id</th>\n",
       "      <th>created</th>\n",
       "      <th>description</th>\n",
       "      <th>display_address</th>\n",
       "      <th>features</th>\n",
       "      <th>interest_level</th>\n",
       "      <th>latitude</th>\n",
       "      <th>listing_id</th>\n",
       "      <th>longitude</th>\n",
       "      <th>manager_id</th>\n",
       "      <th>photos</th>\n",
       "      <th>price</th>\n",
       "      <th>street_address</th>\n",
       "      <th>distance</th>\n",
       "    </tr>\n",
       "  </thead>\n",
       "  <tbody>\n",
       "    <tr>\n",
       "      <th>78568</th>\n",
       "      <td>3.0</td>\n",
       "      <td>3</td>\n",
       "      <td>cca9ed74339903b6d9c876a8e608d75b</td>\n",
       "      <td>2016-05-19 02:11:21</td>\n",
       "      <td>DYNAMIC DUPLEX!!!! Incredible 3 Bedroom, 3.5 B...</td>\n",
       "      <td>E 66th St, New York</td>\n",
       "      <td>[Fitness Center, Renovated, Walk in Closet(s),...</td>\n",
       "      <td>low</td>\n",
       "      <td>44.8835</td>\n",
       "      <td>7035661</td>\n",
       "      <td>-93.2705</td>\n",
       "      <td>223268168dc5049485bd70a19596730e</td>\n",
       "      <td>[https://photos.renthop.com/2/7035661_e224f454...</td>\n",
       "      <td>13875</td>\n",
       "      <td>400 E 66th St,New York</td>\n",
       "      <td>16063.716337</td>\n",
       "    </tr>\n",
       "    <tr>\n",
       "      <th>72896</th>\n",
       "      <td>1.0</td>\n",
       "      <td>0</td>\n",
       "      <td>2fc165040867a7c3694de4b4a63b1062</td>\n",
       "      <td>2016-05-07 10:34:35</td>\n",
       "      <td>Bright UES studio apartment! Only two flights ...</td>\n",
       "      <td>E 78th St  between First and York</td>\n",
       "      <td>[]</td>\n",
       "      <td>low</td>\n",
       "      <td>41.7530</td>\n",
       "      <td>6981117</td>\n",
       "      <td>-87.6134</td>\n",
       "      <td>ee89e559c627af61e8730ea4ad7011d6</td>\n",
       "      <td>[https://photos.renthop.com/2/6981117_2428e796...</td>\n",
       "      <td>2000</td>\n",
       "      <td>452 E 78th St #2A (First Ave &amp; York Ave)</td>\n",
       "      <td>15580.650031</td>\n",
       "    </tr>\n",
       "    <tr>\n",
       "      <th>16405</th>\n",
       "      <td>1.0</td>\n",
       "      <td>0</td>\n",
       "      <td>23b17bf6f7be64e3272b561cc0b65f5a</td>\n",
       "      <td>2016-06-22 23:17:24</td>\n",
       "      <td></td>\n",
       "      <td>Riverside Dr/ 90 Street</td>\n",
       "      <td>[Furnished, Common Outdoor Space, Air Conditio...</td>\n",
       "      <td>medium</td>\n",
       "      <td>44.6038</td>\n",
       "      <td>7202226</td>\n",
       "      <td>-75.1773</td>\n",
       "      <td>7a3570a25df3d87f6520bfe770473d58</td>\n",
       "      <td>[https://photos.renthop.com/2/7202226_a5b38334...</td>\n",
       "      <td>1350</td>\n",
       "      <td>Riverside Dr/ 90 Street</td>\n",
       "      <td>15509.774145</td>\n",
       "    </tr>\n",
       "    <tr>\n",
       "      <th>39798</th>\n",
       "      <td>1.0</td>\n",
       "      <td>1</td>\n",
       "      <td>117aceb94c48bfd1f3066a22f999705f</td>\n",
       "      <td>2016-06-17 02:10:25</td>\n",
       "      <td>NO FEE 1 bedroom - Great Elevator  - Laundry B...</td>\n",
       "      <td>E 38th St,</td>\n",
       "      <td>[Elevator, Walk in Closet(s), High Ceilings, H...</td>\n",
       "      <td>low</td>\n",
       "      <td>34.0126</td>\n",
       "      <td>7174857</td>\n",
       "      <td>-118.2710</td>\n",
       "      <td>f19288238987b18a693e16ee23720c20</td>\n",
       "      <td>[https://photos.renthop.com/2/7174857_6d71b6e1...</td>\n",
       "      <td>2425</td>\n",
       "      <td>234 E 38th St,</td>\n",
       "      <td>15420.948533</td>\n",
       "    </tr>\n",
       "    <tr>\n",
       "      <th>18267</th>\n",
       "      <td>1.0</td>\n",
       "      <td>2</td>\n",
       "      <td>0</td>\n",
       "      <td>2016-06-29 02:30:45</td>\n",
       "      <td>Huge bedrooms, windows in every room! Hard woo...</td>\n",
       "      <td>1st Ave. Loop</td>\n",
       "      <td>[Elevator, Laundry in Building, Dishwasher, Ha...</td>\n",
       "      <td>low</td>\n",
       "      <td>43.0346</td>\n",
       "      <td>7229074</td>\n",
       "      <td>-76.6336</td>\n",
       "      <td>f44a6215f74f901ac7e326207f2984f7</td>\n",
       "      <td>[https://photos.renthop.com/2/7229074_14de73ea...</td>\n",
       "      <td>3300</td>\n",
       "      <td>250 1st Ave. Loop</td>\n",
       "      <td>15392.405145</td>\n",
       "    </tr>\n",
       "  </tbody>\n",
       "</table>\n",
       "</div>"
      ],
      "text/plain": [
       "       bathrooms  bedrooms                       building_id  \\\n",
       "78568        3.0         3  cca9ed74339903b6d9c876a8e608d75b   \n",
       "72896        1.0         0  2fc165040867a7c3694de4b4a63b1062   \n",
       "16405        1.0         0  23b17bf6f7be64e3272b561cc0b65f5a   \n",
       "39798        1.0         1  117aceb94c48bfd1f3066a22f999705f   \n",
       "18267        1.0         2                                 0   \n",
       "\n",
       "                   created                                        description  \\\n",
       "78568  2016-05-19 02:11:21  DYNAMIC DUPLEX!!!! Incredible 3 Bedroom, 3.5 B...   \n",
       "72896  2016-05-07 10:34:35  Bright UES studio apartment! Only two flights ...   \n",
       "16405  2016-06-22 23:17:24                                                      \n",
       "39798  2016-06-17 02:10:25  NO FEE 1 bedroom - Great Elevator  - Laundry B...   \n",
       "18267  2016-06-29 02:30:45  Huge bedrooms, windows in every room! Hard woo...   \n",
       "\n",
       "                            display_address  \\\n",
       "78568                  E 66th St, New York    \n",
       "72896   E 78th St  between First and York     \n",
       "16405               Riverside Dr/ 90 Street   \n",
       "39798                            E 38th St,   \n",
       "18267                         1st Ave. Loop   \n",
       "\n",
       "                                                features interest_level  \\\n",
       "78568  [Fitness Center, Renovated, Walk in Closet(s),...            low   \n",
       "72896                                                 []            low   \n",
       "16405  [Furnished, Common Outdoor Space, Air Conditio...         medium   \n",
       "39798  [Elevator, Walk in Closet(s), High Ceilings, H...            low   \n",
       "18267  [Elevator, Laundry in Building, Dishwasher, Ha...            low   \n",
       "\n",
       "       latitude  listing_id  longitude                        manager_id  \\\n",
       "78568   44.8835     7035661   -93.2705  223268168dc5049485bd70a19596730e   \n",
       "72896   41.7530     6981117   -87.6134  ee89e559c627af61e8730ea4ad7011d6   \n",
       "16405   44.6038     7202226   -75.1773  7a3570a25df3d87f6520bfe770473d58   \n",
       "39798   34.0126     7174857  -118.2710  f19288238987b18a693e16ee23720c20   \n",
       "18267   43.0346     7229074   -76.6336  f44a6215f74f901ac7e326207f2984f7   \n",
       "\n",
       "                                                  photos  price  \\\n",
       "78568  [https://photos.renthop.com/2/7035661_e224f454...  13875   \n",
       "72896  [https://photos.renthop.com/2/6981117_2428e796...   2000   \n",
       "16405  [https://photos.renthop.com/2/7202226_a5b38334...   1350   \n",
       "39798  [https://photos.renthop.com/2/7174857_6d71b6e1...   2425   \n",
       "18267  [https://photos.renthop.com/2/7229074_14de73ea...   3300   \n",
       "\n",
       "                                 street_address      distance  \n",
       "78568                   400 E 66th St,New York   16063.716337  \n",
       "72896  452 E 78th St #2A (First Ave & York Ave)  15580.650031  \n",
       "16405                   Riverside Dr/ 90 Street  15509.774145  \n",
       "39798                            234 E 38th St,  15420.948533  \n",
       "18267                         250 1st Ave. Loop  15392.405145  "
      ]
     },
     "execution_count": 22,
     "metadata": {},
     "output_type": "execute_result"
    }
   ],
   "source": [
    "data.sort_values('distance', ascending=False).head()"
   ]
  },
  {
   "cell_type": "markdown",
   "metadata": {
    "deletable": true,
    "editable": true
   },
   "source": [
    "Обучите ``CountVectorizer`` из ``scikit-learn``, используя колонку ``Description`` из датасета \"Two Sigma Connect: Rental Listing Inquires\" таким образом, чтобы в словаре было не более 1000 слов, не меняя прочие параметры по умолчанию. \n",
    "<font color='red'>Вопрос 7.</font> Какое слово соответствует индексу 165 в словаре обученного ``CountVectorizer``?"
   ]
  },
  {
   "cell_type": "code",
   "execution_count": 40,
   "metadata": {
    "collapsed": false,
    "deletable": true,
    "editable": true
   },
   "outputs": [
    {
     "data": {
      "text/plain": [
       "CountVectorizer(analyzer='word', binary=False, decode_error='strict',\n",
       "        dtype=<class 'numpy.int64'>, encoding='utf-8', input='content',\n",
       "        lowercase=True, max_df=1.0, max_features=1000, min_df=1,\n",
       "        ngram_range=(1, 1), preprocessor=None, stop_words=None,\n",
       "        strip_accents=None, token_pattern='(?u)\\\\b\\\\w\\\\w+\\\\b',\n",
       "        tokenizer=None, vocabulary=None)"
      ]
     },
     "execution_count": 40,
     "metadata": {},
     "output_type": "execute_result"
    }
   ],
   "source": [
    "''' ВАШ КОД ЗДЕСЬ '''\n",
    "from sklearn.feature_extraction.text import CountVectorizer\n",
    "cv = CountVectorizer(max_features=1000)\n",
    "\n",
    "cv.fit(data['description'])"
   ]
  },
  {
   "cell_type": "code",
   "execution_count": 41,
   "metadata": {
    "collapsed": false
   },
   "outputs": [
    {
     "data": {
      "text/plain": [
       "1000"
      ]
     },
     "execution_count": 41,
     "metadata": {},
     "output_type": "execute_result"
    }
   ],
   "source": [
    "len(cv.vocabulary_)"
   ]
  },
  {
   "cell_type": "code",
   "execution_count": 42,
   "metadata": {
    "collapsed": false
   },
   "outputs": [
    {
     "data": {
      "text/plain": [
       "'building'"
      ]
     },
     "execution_count": 42,
     "metadata": {},
     "output_type": "execute_result"
    }
   ],
   "source": [
    "[key for key, value in cv.vocabulary_.items() if value == 165][0]"
   ]
  },
  {
   "cell_type": "markdown",
   "metadata": {
    "deletable": true,
    "editable": true
   },
   "source": [
    "Используя датасет \"Two Sigma Connect: Rental Listing\", обработанный при помощи [скрипта](https://github.com/Yorko/mlcourse_open/blob/master/jupyter_notebooks/topic6_features/demo.py), отмасштабируйте его при помощи ``MinMaxScaler`` и удалите признаки с дисперсией меньше 0.1. \n",
    "<font color='red'>Вопрос 8.</font> Сколько признаков осталось в датасете?"
   ]
  },
  {
   "cell_type": "code",
   "execution_count": 60,
   "metadata": {
    "collapsed": false,
    "deletable": true,
    "editable": true
   },
   "outputs": [
    {
     "data": {
      "text/html": [
       "<div>\n",
       "<table border=\"1\" class=\"dataframe\">\n",
       "  <thead>\n",
       "    <tr style=\"text-align: right;\">\n",
       "      <th></th>\n",
       "      <th>bathrooms</th>\n",
       "      <th>bedrooms</th>\n",
       "      <th>price</th>\n",
       "      <th>dishwasher</th>\n",
       "      <th>doorman</th>\n",
       "      <th>pets</th>\n",
       "      <th>air_conditioning</th>\n",
       "      <th>parking</th>\n",
       "      <th>balcony</th>\n",
       "      <th>bike</th>\n",
       "      <th>...</th>\n",
       "      <th>stainless</th>\n",
       "      <th>simplex</th>\n",
       "      <th>public</th>\n",
       "      <th>num_photos</th>\n",
       "      <th>num_features</th>\n",
       "      <th>listing_age</th>\n",
       "      <th>room_dif</th>\n",
       "      <th>room_sum</th>\n",
       "      <th>price_per_room</th>\n",
       "      <th>bedrooms_share</th>\n",
       "    </tr>\n",
       "  </thead>\n",
       "  <tbody>\n",
       "    <tr>\n",
       "      <th>10</th>\n",
       "      <td>1.5</td>\n",
       "      <td>3</td>\n",
       "      <td>8.006368</td>\n",
       "      <td>0</td>\n",
       "      <td>0</td>\n",
       "      <td>0</td>\n",
       "      <td>0</td>\n",
       "      <td>0</td>\n",
       "      <td>0</td>\n",
       "      <td>0</td>\n",
       "      <td>...</td>\n",
       "      <td>0</td>\n",
       "      <td>0</td>\n",
       "      <td>0</td>\n",
       "      <td>5</td>\n",
       "      <td>0</td>\n",
       "      <td>289</td>\n",
       "      <td>1.5</td>\n",
       "      <td>4.5</td>\n",
       "      <td>666.666667</td>\n",
       "      <td>0.666667</td>\n",
       "    </tr>\n",
       "    <tr>\n",
       "      <th>10000</th>\n",
       "      <td>1.0</td>\n",
       "      <td>2</td>\n",
       "      <td>8.606119</td>\n",
       "      <td>0</td>\n",
       "      <td>1</td>\n",
       "      <td>1</td>\n",
       "      <td>0</td>\n",
       "      <td>0</td>\n",
       "      <td>0</td>\n",
       "      <td>0</td>\n",
       "      <td>...</td>\n",
       "      <td>0</td>\n",
       "      <td>0</td>\n",
       "      <td>0</td>\n",
       "      <td>11</td>\n",
       "      <td>57</td>\n",
       "      <td>301</td>\n",
       "      <td>1.0</td>\n",
       "      <td>3.0</td>\n",
       "      <td>1821.666667</td>\n",
       "      <td>0.666667</td>\n",
       "    </tr>\n",
       "    <tr>\n",
       "      <th>100004</th>\n",
       "      <td>1.0</td>\n",
       "      <td>1</td>\n",
       "      <td>7.955074</td>\n",
       "      <td>1</td>\n",
       "      <td>0</td>\n",
       "      <td>1</td>\n",
       "      <td>0</td>\n",
       "      <td>0</td>\n",
       "      <td>0</td>\n",
       "      <td>0</td>\n",
       "      <td>...</td>\n",
       "      <td>0</td>\n",
       "      <td>0</td>\n",
       "      <td>0</td>\n",
       "      <td>8</td>\n",
       "      <td>72</td>\n",
       "      <td>357</td>\n",
       "      <td>0.0</td>\n",
       "      <td>2.0</td>\n",
       "      <td>1425.000000</td>\n",
       "      <td>0.500000</td>\n",
       "    </tr>\n",
       "    <tr>\n",
       "      <th>100007</th>\n",
       "      <td>1.0</td>\n",
       "      <td>1</td>\n",
       "      <td>8.094073</td>\n",
       "      <td>0</td>\n",
       "      <td>0</td>\n",
       "      <td>0</td>\n",
       "      <td>0</td>\n",
       "      <td>0</td>\n",
       "      <td>0</td>\n",
       "      <td>0</td>\n",
       "      <td>...</td>\n",
       "      <td>0</td>\n",
       "      <td>0</td>\n",
       "      <td>0</td>\n",
       "      <td>3</td>\n",
       "      <td>22</td>\n",
       "      <td>356</td>\n",
       "      <td>0.0</td>\n",
       "      <td>2.0</td>\n",
       "      <td>1637.500000</td>\n",
       "      <td>0.500000</td>\n",
       "    </tr>\n",
       "    <tr>\n",
       "      <th>100013</th>\n",
       "      <td>1.0</td>\n",
       "      <td>4</td>\n",
       "      <td>8.116716</td>\n",
       "      <td>0</td>\n",
       "      <td>0</td>\n",
       "      <td>0</td>\n",
       "      <td>0</td>\n",
       "      <td>0</td>\n",
       "      <td>0</td>\n",
       "      <td>0</td>\n",
       "      <td>...</td>\n",
       "      <td>0</td>\n",
       "      <td>0</td>\n",
       "      <td>0</td>\n",
       "      <td>3</td>\n",
       "      <td>7</td>\n",
       "      <td>346</td>\n",
       "      <td>3.0</td>\n",
       "      <td>5.0</td>\n",
       "      <td>670.000000</td>\n",
       "      <td>0.800000</td>\n",
       "    </tr>\n",
       "  </tbody>\n",
       "</table>\n",
       "<p>5 rows × 46 columns</p>\n",
       "</div>"
      ],
      "text/plain": [
       "        bathrooms  bedrooms     price  dishwasher  doorman  pets  \\\n",
       "10            1.5         3  8.006368           0        0     0   \n",
       "10000         1.0         2  8.606119           0        1     1   \n",
       "100004        1.0         1  7.955074           1        0     1   \n",
       "100007        1.0         1  8.094073           0        0     0   \n",
       "100013        1.0         4  8.116716           0        0     0   \n",
       "\n",
       "        air_conditioning  parking  balcony  bike       ...        stainless  \\\n",
       "10                     0        0        0     0       ...                0   \n",
       "10000                  0        0        0     0       ...                0   \n",
       "100004                 0        0        0     0       ...                0   \n",
       "100007                 0        0        0     0       ...                0   \n",
       "100013                 0        0        0     0       ...                0   \n",
       "\n",
       "        simplex  public  num_photos  num_features  listing_age  room_dif  \\\n",
       "10            0       0           5             0          289       1.5   \n",
       "10000         0       0          11            57          301       1.0   \n",
       "100004        0       0           8            72          357       0.0   \n",
       "100007        0       0           3            22          356       0.0   \n",
       "100013        0       0           3             7          346       3.0   \n",
       "\n",
       "        room_sum  price_per_room  bedrooms_share  \n",
       "10           4.5      666.666667        0.666667  \n",
       "10000        3.0     1821.666667        0.666667  \n",
       "100004       2.0     1425.000000        0.500000  \n",
       "100007       2.0     1637.500000        0.500000  \n",
       "100013       5.0      670.000000        0.800000  \n",
       "\n",
       "[5 rows x 46 columns]"
      ]
     },
     "execution_count": 60,
     "metadata": {},
     "output_type": "execute_result"
    }
   ],
   "source": [
    "''' ВАШ КОД ЗДЕСЬ '''\n",
    "import demo\n",
    "data_engineered, y = demo.get_data()\n",
    "data_engineered.head()"
   ]
  },
  {
   "cell_type": "code",
   "execution_count": 65,
   "metadata": {
    "collapsed": false
   },
   "outputs": [
    {
     "data": {
      "text/plain": [
       "(49352, 12)"
      ]
     },
     "execution_count": 65,
     "metadata": {},
     "output_type": "execute_result"
    }
   ],
   "source": [
    "from sklearn.preprocessing import MinMaxScaler\n",
    "from sklearn.feature_selection import VarianceThreshold\n",
    "\n",
    "data_engineered_scaled = MinMaxScaler().fit_transform(data_engineered)\n",
    "VarianceThreshold(.1).fit_transform(data_engineered_scaled).shape"
   ]
  },
  {
   "cell_type": "code",
   "execution_count": null,
   "metadata": {
    "collapsed": true
   },
   "outputs": [],
   "source": []
  }
 ],
 "metadata": {
  "anaconda-cloud": {},
  "kernelspec": {
   "display_name": "Python [Root]",
   "language": "python",
   "name": "Python [Root]"
  },
  "language_info": {
   "codemirror_mode": {
    "name": "ipython",
    "version": 3
   },
   "file_extension": ".py",
   "mimetype": "text/x-python",
   "name": "python",
   "nbconvert_exporter": "python",
   "pygments_lexer": "ipython3",
   "version": "3.5.2"
  }
 },
 "nbformat": 4,
 "nbformat_minor": 2
}

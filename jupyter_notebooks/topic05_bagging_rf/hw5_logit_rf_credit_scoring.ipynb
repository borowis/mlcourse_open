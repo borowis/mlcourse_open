{
 "cells": [
  {
   "cell_type": "markdown",
   "metadata": {},
   "source": [
    "<center>\n",
    "<img src=\"../../img/ods_stickers.jpg\">\n",
    "## Открытый курс по машинному обучению\n",
    "</center>\n",
    "Авторы материала: Data Science интерн Ciklum, студент магистерской программы CSDS UCU Виталий Радченко, аналитик Вымпелком Саян Омаров"
   ]
  },
  {
   "cell_type": "markdown",
   "metadata": {},
   "source": [
    "# <center> Домашнее задание № 5\n",
    "## <center> Логистическая регрессия и случайный лес в задаче кредитного скоринга"
   ]
  },
  {
   "cell_type": "markdown",
   "metadata": {},
   "source": [
    "#### Нашей главной задачей будет построение модели для задачи кредитного скоринга.\n",
    "\n",
    "Но для разминки решите первое задание :)\n",
    "\n",
    "**Задание 1** В зале суда есть 5 присяжных, каждый из них по отдельности с вероятностью 70% может правильно определить виновен подсудимый или нет. С какой вероятностью они все вместе вынесут правильный вердикт, если решение принимается большинством голосов?\n",
    "- 70.00%\n",
    "- 83.20%\n",
    "- 83.70%\n",
    "- 87.50%\n",
    "\n",
    "Теперь перейдем непосредственно к машинному обучению.\n",
    "\n",
    "#### Данные представлены следующим образом:\n",
    "\n",
    "##### Прогнозируемая  переменная\n",
    "* SeriousDlqin2yrs\t     ----Человек не выплатил данный кредит в течение 90 дней; возможные значения  1/0 \n",
    "\n",
    "##### Независимые признаки\n",
    "* age\t                         ---- Возраст заёмщика кредитных средств; тип - integer\n",
    "* NumberOfTime30-59DaysPastDueNotWorse\t----Количество раз, когда человек имел просрочку выплаты других кредитов более 30-59 дней, но не больше в течение последних двух лет; тип -\tinteger\n",
    "* DebtRatio ----\tЕжемесячный отчисления на задолжености(кредиты,алименты и т.д.)  / совокупный месячный доход \tpercentage; тип -\treal\n",
    "* MonthlyIncome\t----Месячный доход в долларах; тип -\treal\n",
    "* NumberOfTimes90DaysLate ----Количество раз, когда человек имел просрочку выплаты других кредитов более 90 дней; тип -\tinteger\n",
    "* NumberOfTime60-89DaysPastDueNotWorse----\tКоличество раз, когда человек имел просрочку выплаты других кредитов более 60-89 дней, но не больше в течение последних двух лет; ; тип -\tinteger\n",
    "* NumberOfDependents ----Число человек в семье кредитозаёмщика; тип -\tinteger"
   ]
  },
  {
   "cell_type": "code",
   "execution_count": 57,
   "metadata": {
    "collapsed": false
   },
   "outputs": [],
   "source": [
    "%matplotlib inline\n",
    "import matplotlib.pyplot as plt\n",
    "import seaborn as sns\n",
    "# отключим предупреждения Anaconda\n",
    "import warnings\n",
    "warnings.filterwarnings('ignore')\n",
    "import pandas as pd\n",
    "import numpy as np"
   ]
  },
  {
   "cell_type": "code",
   "execution_count": 58,
   "metadata": {
    "collapsed": true
   },
   "outputs": [],
   "source": [
    "## Сделаем функцию, которая будет заменять NaN значения на медиану в каждом столбце таблицы \n",
    "def delete_nan(table):\n",
    "    for col in table.columns:\n",
    "        table[col]= table[col].fillna(table[col].median())\n",
    "    return table   "
   ]
  },
  {
   "cell_type": "code",
   "execution_count": 59,
   "metadata": {
    "collapsed": false
   },
   "outputs": [
    {
     "data": {
      "text/html": [
       "<div>\n",
       "<table border=\"1\" class=\"dataframe\">\n",
       "  <thead>\n",
       "    <tr style=\"text-align: right;\">\n",
       "      <th></th>\n",
       "      <th>SeriousDlqin2yrs</th>\n",
       "      <th>age</th>\n",
       "      <th>NumberOfTime30-59DaysPastDueNotWorse</th>\n",
       "      <th>DebtRatio</th>\n",
       "      <th>NumberOfTimes90DaysLate</th>\n",
       "      <th>NumberOfTime60-89DaysPastDueNotWorse</th>\n",
       "      <th>MonthlyIncome</th>\n",
       "      <th>NumberOfDependents</th>\n",
       "    </tr>\n",
       "  </thead>\n",
       "  <tbody>\n",
       "    <tr>\n",
       "      <th>0</th>\n",
       "      <td>0</td>\n",
       "      <td>64</td>\n",
       "      <td>0</td>\n",
       "      <td>0.249908</td>\n",
       "      <td>0</td>\n",
       "      <td>0</td>\n",
       "      <td>8158.0</td>\n",
       "      <td>0.0</td>\n",
       "    </tr>\n",
       "    <tr>\n",
       "      <th>1</th>\n",
       "      <td>0</td>\n",
       "      <td>58</td>\n",
       "      <td>0</td>\n",
       "      <td>3870.000000</td>\n",
       "      <td>0</td>\n",
       "      <td>0</td>\n",
       "      <td>NaN</td>\n",
       "      <td>0.0</td>\n",
       "    </tr>\n",
       "    <tr>\n",
       "      <th>2</th>\n",
       "      <td>0</td>\n",
       "      <td>41</td>\n",
       "      <td>0</td>\n",
       "      <td>0.456127</td>\n",
       "      <td>0</td>\n",
       "      <td>0</td>\n",
       "      <td>6666.0</td>\n",
       "      <td>0.0</td>\n",
       "    </tr>\n",
       "    <tr>\n",
       "      <th>3</th>\n",
       "      <td>0</td>\n",
       "      <td>43</td>\n",
       "      <td>0</td>\n",
       "      <td>0.000190</td>\n",
       "      <td>0</td>\n",
       "      <td>0</td>\n",
       "      <td>10500.0</td>\n",
       "      <td>2.0</td>\n",
       "    </tr>\n",
       "    <tr>\n",
       "      <th>4</th>\n",
       "      <td>1</td>\n",
       "      <td>49</td>\n",
       "      <td>0</td>\n",
       "      <td>0.271820</td>\n",
       "      <td>0</td>\n",
       "      <td>0</td>\n",
       "      <td>400.0</td>\n",
       "      <td>0.0</td>\n",
       "    </tr>\n",
       "  </tbody>\n",
       "</table>\n",
       "</div>"
      ],
      "text/plain": [
       "   SeriousDlqin2yrs  age  NumberOfTime30-59DaysPastDueNotWorse    DebtRatio  \\\n",
       "0                 0   64                                     0     0.249908   \n",
       "1                 0   58                                     0  3870.000000   \n",
       "2                 0   41                                     0     0.456127   \n",
       "3                 0   43                                     0     0.000190   \n",
       "4                 1   49                                     0     0.271820   \n",
       "\n",
       "   NumberOfTimes90DaysLate  NumberOfTime60-89DaysPastDueNotWorse  \\\n",
       "0                        0                                     0   \n",
       "1                        0                                     0   \n",
       "2                        0                                     0   \n",
       "3                        0                                     0   \n",
       "4                        0                                     0   \n",
       "\n",
       "   MonthlyIncome  NumberOfDependents  \n",
       "0         8158.0                 0.0  \n",
       "1            NaN                 0.0  \n",
       "2         6666.0                 0.0  \n",
       "3        10500.0                 2.0  \n",
       "4          400.0                 0.0  "
      ]
     },
     "execution_count": 59,
     "metadata": {},
     "output_type": "execute_result"
    }
   ],
   "source": [
    "## Считываем данные\n",
    "data = pd.read_csv('../../data/credit_scoring_sample.csv', sep =';')\n",
    "data.head()"
   ]
  },
  {
   "cell_type": "code",
   "execution_count": 60,
   "metadata": {
    "collapsed": false
   },
   "outputs": [
    {
     "data": {
      "text/plain": [
       "SeriousDlqin2yrs                          int64\n",
       "age                                       int64\n",
       "NumberOfTime30-59DaysPastDueNotWorse      int64\n",
       "DebtRatio                               float64\n",
       "NumberOfTimes90DaysLate                   int64\n",
       "NumberOfTime60-89DaysPastDueNotWorse      int64\n",
       "MonthlyIncome                           float64\n",
       "NumberOfDependents                      float64\n",
       "dtype: object"
      ]
     },
     "execution_count": 60,
     "metadata": {},
     "output_type": "execute_result"
    }
   ],
   "source": [
    "## Рассмотрим типы считанных данных\n",
    "data.dtypes"
   ]
  },
  {
   "cell_type": "code",
   "execution_count": 61,
   "metadata": {
    "collapsed": false
   },
   "outputs": [
    {
     "name": "stdout",
     "output_type": "stream",
     "text": [
      "Distribution of target\n"
     ]
    },
    {
     "data": {
      "text/plain": [
       "0    0.777511\n",
       "1    0.222489\n",
       "Name: SeriousDlqin2yrs, dtype: float64"
      ]
     },
     "execution_count": 61,
     "metadata": {},
     "output_type": "execute_result"
    },
    {
     "data": {
      "image/png": "[encoded data removed]",
      "text/plain": [
       "<matplotlib.figure.Figure at 0x7f5acad30ef0>"
      ]
     },
     "metadata": {},
     "output_type": "display_data"
    }
   ],
   "source": [
    "## Посмотрим на распределение классов в зависимой переменной\n",
    "\n",
    "ax =data['SeriousDlqin2yrs'].hist(orientation='horizontal', color='red')\n",
    "ax.set_xlabel(\"number_of_observations\")\n",
    "ax.set_ylabel(\"unique_value\")\n",
    "ax.set_title(\"Target distribution\")\n",
    "\n",
    "print('Distribution of target')\n",
    "data['SeriousDlqin2yrs'].value_counts()/data.shape[0]"
   ]
  },
  {
   "cell_type": "code",
   "execution_count": 62,
   "metadata": {
    "collapsed": false
   },
   "outputs": [
    {
     "data": {
      "text/plain": [
       "['age',\n",
       " 'NumberOfTime30-59DaysPastDueNotWorse',\n",
       " 'DebtRatio',\n",
       " 'NumberOfTimes90DaysLate',\n",
       " 'NumberOfTime60-89DaysPastDueNotWorse',\n",
       " 'MonthlyIncome',\n",
       " 'NumberOfDependents']"
      ]
     },
     "execution_count": 62,
     "metadata": {},
     "output_type": "execute_result"
    }
   ],
   "source": [
    "## Выберем названия всех признаков из таблицы, кроме прогнозируемого\n",
    "\n",
    "independent_columns_names = data.columns.values\n",
    "independent_columns_names = [x for x in data if x != 'SeriousDlqin2yrs']\n",
    "independent_columns_names\n"
   ]
  },
  {
   "cell_type": "code",
   "execution_count": 63,
   "metadata": {
    "collapsed": true
   },
   "outputs": [],
   "source": [
    "## Применяем функцию, заменяющую все NaN значения на медианное значение соответствующего столбца\n",
    "table =delete_nan(data)\n"
   ]
  },
  {
   "cell_type": "code",
   "execution_count": 64,
   "metadata": {
    "collapsed": false
   },
   "outputs": [],
   "source": [
    "## Разделяем таргет и признаки \n",
    "X =table[independent_columns_names]\n",
    "y = table['SeriousDlqin2yrs']\n"
   ]
  },
  {
   "cell_type": "markdown",
   "metadata": {},
   "source": [
    "# Бутстрэп"
   ]
  },
  {
   "cell_type": "markdown",
   "metadata": {},
   "source": [
    "**Задание 2.** Сделайте интервальную оценку среднего возраста (age) для клиентов, которые просрочили выплату кредита, с 90% \"уверенностью\". (используйте пример из статьи. Поставьте np.random.seed(0) как это сделано в статье)"
   ]
  },
  {
   "cell_type": "code",
   "execution_count": 65,
   "metadata": {
    "collapsed": false
   },
   "outputs": [
    {
     "name": "stdout",
     "output_type": "stream",
     "text": [
      "Ages from 'not returned':  mean interval [ 45.71379414  46.12700479]\n"
     ]
    }
   ],
   "source": [
    "### Ваш код должен быть здесь ###\n",
    "def get_bootstrap_samples(data, n_samples):\n",
    "    # функция для генерации подвыборок с помощью бутстрэпа\n",
    "    indices = np.random.randint(0, len(data), (n_samples, len(data)))\n",
    "    samples = data[indices]\n",
    "    return samples\n",
    "\n",
    "def stat_intervals(stat, alpha):\n",
    "    # функция для интервальной оценки\n",
    "    boundaries = np.percentile(stat, [100 * alpha / 2., 100 * (1 - alpha / 2.)])\n",
    "    return boundaries\n",
    "\n",
    "not_returned_credit_ages= table[table['SeriousDlqin2yrs'] == 1]['age'].values\n",
    "\n",
    "# ставим seed для воспроизводимости результатов\n",
    "np.random.seed(0)\n",
    "\n",
    "# генерируем выборки с помощью бутстрэра и сразу считаем по каждой из них среднее\n",
    "not_returned_credit_mean_ages = [np.mean(sample) for sample in get_bootstrap_samples(not_returned_credit_ages, 1000)]\n",
    "\n",
    "#  выводим интервальную оценку среднего\n",
    "print(\"Ages from 'not returned':  mean interval\",  stat_intervals(not_returned_credit_mean_ages, 0.1))"
   ]
  },
  {
   "cell_type": "markdown",
   "metadata": {},
   "source": [
    "## Подбор параметров для модели логистической регрессии "
   ]
  },
  {
   "cell_type": "markdown",
   "metadata": {},
   "source": [
    "#### Одной из важных метрик качества модели является значение площади под ROC-кривой. Значение ROC-AUC лежит от 0  до 1.   Чем ближе начение метрики ROC-AUC к 1, тем качественнее происходит классификация моделью."
   ]
  },
  {
   "cell_type": "code",
   "execution_count": 80,
   "metadata": {
    "collapsed": false
   },
   "outputs": [],
   "source": [
    "from sklearn.linear_model import LogisticRegression\n",
    "from sklearn.model_selection import GridSearchCV, StratifiedKFold\n",
    "\n",
    "## Используем модуль LogisticRegression для построения логистической регрессии.\n",
    "## Из-за несбалансированности классов  в таргете добавляем параметр балансировки.\n",
    "## Используем также параметр random_state=5 для воспроизводимости результатов\n",
    "lr = LogisticRegression(random_state=5, class_weight= 'balanced')\n",
    "\n",
    "## Попробуем подобрать лучший коэффициент регуляризации (коэффициент C в логистической регрессии) для модели лог.регрессии.\n",
    "## Этот параметр необходим для того, чтобы подобрать оптимальную модель, которая не будет переобучена, с одной стороны, \n",
    "## и будет хорошо предсказывать значения таргета, с другой.\n",
    "## Остальные параметры оставляем по умолчанию.\n",
    "parameters = {'C': (0.0001, 0.001, 0.01, 0.1, 1, 10)}\n",
    "\n",
    "## Для того, чтобы подобрать коэффициент регуляризации, попробуем для каждого его возможного значения посмотреть \n",
    "## значения roc-auc на стрэтифайд кросс-валидации из 5 фолдов с помощью функции StratifiedKFold\n",
    "\n",
    "skf = StratifiedKFold(n_splits=5, shuffle=True, random_state=5)"
   ]
  },
  {
   "cell_type": "markdown",
   "metadata": {},
   "source": [
    "**Задание 3.**\n",
    "Сделайте GridSearch с метрикой \"roc-auc\" по параметру C. Какое оптимальное значение параметра С?"
   ]
  },
  {
   "cell_type": "code",
   "execution_count": 81,
   "metadata": {
    "collapsed": false
   },
   "outputs": [
    {
     "data": {
      "text/plain": [
       "{'mean_fit_time': array([ 0.3134356 ,  0.28855162,  0.31595392,  0.3199894 ,  0.31907177,\n",
       "         0.3312479 ]),\n",
       " 'mean_score_time': array([ 0.0061655 ,  0.00324454,  0.00328283,  0.00321584,  0.00331931,\n",
       "         0.00339231]),\n",
       " 'mean_test_score': array([ 0.79090936,  0.79620648,  0.79108324,  0.78883253,  0.78873232,\n",
       "         0.78828926]),\n",
       " 'mean_train_score': array([ 0.79110795,  0.79635282,  0.79129514,  0.78902306,  0.7888694 ,\n",
       "         0.78850229]),\n",
       " 'param_C': masked_array(data = [0.0001 0.001 0.01 0.1 1 10],\n",
       "              mask = [False False False False False False],\n",
       "        fill_value = ?),\n",
       " 'params': ({'C': 0.0001},\n",
       "  {'C': 0.001},\n",
       "  {'C': 0.01},\n",
       "  {'C': 0.1},\n",
       "  {'C': 1},\n",
       "  {'C': 10}),\n",
       " 'rank_test_score': array([3, 1, 2, 4, 5, 6], dtype=int32),\n",
       " 'split0_test_score': array([ 0.79006524,  0.79356999,  0.78806353,  0.78616989,  0.78582034,\n",
       "         0.78510125]),\n",
       " 'split0_train_score': array([ 0.79255473,  0.79725005,  0.79163639,  0.78959762,  0.78920305,\n",
       "         0.7885093 ]),\n",
       " 'split1_test_score': array([ 0.78532475,  0.79202077,  0.78809344,  0.78566423,  0.78554516,\n",
       "         0.78559619]),\n",
       " 'split1_train_score': array([ 0.79055839,  0.79569232,  0.78933297,  0.78628089,  0.78602961,\n",
       "         0.78615339]),\n",
       " 'split2_test_score': array([ 0.79357401,  0.79871109,  0.79368925,  0.79108309,  0.79077154,\n",
       "         0.79073894]),\n",
       " 'split2_train_score': array([ 0.7917876 ,  0.79673009,  0.79291155,  0.79064187,  0.79036025,\n",
       "         0.79033058]),\n",
       " 'split3_test_score': array([ 0.78955875,  0.79503706,  0.78817467,  0.7857197 ,  0.78625881,\n",
       "         0.78477194]),\n",
       " 'split3_train_score': array([ 0.78990877,  0.79597909,  0.79109343,  0.78911079,  0.78955227,\n",
       "         0.78834707]),\n",
       " 'split4_test_score': array([ 0.79602489,  0.80169453,  0.7973963 ,  0.7955267 ,  0.79526676,\n",
       "         0.795239  ]),\n",
       " 'split4_train_score': array([ 0.79073026,  0.79611257,  0.79150136,  0.78948413,  0.78920181,\n",
       "         0.78917109]),\n",
       " 'std_fit_time': array([ 0.03342279,  0.0396375 ,  0.02816076,  0.03445834,  0.04182604,\n",
       "         0.0371226 ]),\n",
       " 'std_score_time': array([  4.18741460e-03,   6.72916071e-05,   1.01359632e-04,\n",
       "          1.12172878e-04,   3.21797802e-04,   2.17016789e-04]),\n",
       " 'std_test_score': array([ 0.0036604 ,  0.00352789,  0.00382522,  0.00391643,  0.00378448,\n",
       "         0.00410085]),\n",
       " 'std_train_score': array([ 0.0009421 ,  0.00056232,  0.00115435,  0.00146222,  0.00148157,\n",
       "         0.00136612])}"
      ]
     },
     "execution_count": 81,
     "metadata": {},
     "output_type": "execute_result"
    }
   ],
   "source": [
    "### Ваш код должен быть здесь ###\n",
    "gslr = GridSearchCV(lr, parameters, scoring='roc_auc', cv=skf)\n",
    "gslr.fit(X, y)\n",
    "\n",
    "gslr.cv_results_"
   ]
  },
  {
   "cell_type": "markdown",
   "metadata": {},
   "source": [
    "**Задание 4.** \n",
    "Можно ли считать лучшую модель устойчивой? (модель считаем устойчивой, если стандартное отклонение на валидации меньше 0.5%) Сохраните точность лучшей модели, она вам приходится для следующих заданий"
   ]
  },
  {
   "cell_type": "code",
   "execution_count": 82,
   "metadata": {
    "collapsed": false,
    "scrolled": true
   },
   "outputs": [
    {
     "name": "stdout",
     "output_type": "stream",
     "text": [
      "{'C': 0.001}\n",
      "0.79620647691\n",
      "0.443086767534\n"
     ]
    }
   ],
   "source": [
    "### Ваш код должен быть здесь ###\n",
    "print (gslr.best_params_)\n",
    "print (gslr.best_score_)\n",
    "print (gslr.cv_results_['std_test_score'][1] / gslr.cv_results_['mean_test_score'][1] * 100)"
   ]
  },
  {
   "cell_type": "markdown",
   "metadata": {},
   "source": [
    "## Определение влияния признаков"
   ]
  },
  {
   "cell_type": "markdown",
   "metadata": {},
   "source": [
    "**Задание 5.**\n",
    "Определите самый важный признак. Важность признака определяется абсолютным значением его коэффициента. Так же нужно нормализировать все признаки, что бы можно их было корректно сравнить."
   ]
  },
  {
   "cell_type": "code",
   "execution_count": 75,
   "metadata": {
    "collapsed": false
   },
   "outputs": [
    {
     "name": "stdout",
     "output_type": "stream",
     "text": [
      "['age', 'NumberOfTime30-59DaysPastDueNotWorse', 'DebtRatio', 'NumberOfTimes90DaysLate', 'NumberOfTime60-89DaysPastDueNotWorse', 'MonthlyIncome', 'NumberOfDependents']\n",
      "[2 6 5 4 0 3 1]\n",
      "[ 0.41630368  0.72400432  0.02408186  0.51767292  0.19473217  0.16286353\n",
      "  0.10132603]\n"
     ]
    }
   ],
   "source": [
    "### Ваш код должен быть здесь ###\n",
    "from sklearn.preprocessing import StandardScaler\n",
    "X_scaled = StandardScaler().fit_transform(X)\n",
    "lr_scaled = LogisticRegression(C=0.001, random_state=5, class_weight='balanced')\n",
    "lr_scaled.fit(X_scaled, y)\n",
    "\n",
    "coef = abs(lr_scaled.coef_.ravel())\n",
    "print (independent_columns_names)\n",
    "print (np.argsort(coef))\n",
    "print (coef)"
   ]
  },
  {
   "cell_type": "markdown",
   "metadata": {},
   "source": [
    "**Задание 6.** Посчитайте долю влияния `DebtRatio` на предсказание. (Воспользуйтесь функцией [softmax](https://en.wikipedia.org/wiki/Softmax_function))"
   ]
  },
  {
   "cell_type": "code",
   "execution_count": 76,
   "metadata": {
    "collapsed": false
   },
   "outputs": [
    {
     "name": "stdout",
     "output_type": "stream",
     "text": [
      "[ 0.07715192  0.2413105   0.11420537  0.19632139  0.14213998  0.09940641\n",
      "  0.12946443]\n",
      "1.0\n"
     ]
    }
   ],
   "source": [
    "def softmax(x):\n",
    "    \"\"\"Compute softmax values for each sets of scores in x.\"\"\"\n",
    "    return np.exp(x) / np.sum(np.exp(x), axis=0)\n",
    "\n",
    "print (softmax(lr_scaled.coef_.ravel()))\n",
    "print (sum(softmax(lr_scaled.coef_.ravel())))"
   ]
  },
  {
   "cell_type": "markdown",
   "metadata": {},
   "source": [
    "**Задание 7.** \n",
    "Давайте посмотрим как можно интерпретировать влияние наших признаков. Для этого заного оценим логистическую регрессию в абсолютных величинах. После этого посчитайте во сколько раз увеличатся шансы, что клиент не выплатит кредит, если увеличить возраст на 20 лет при всех остальных равных значениях признаков. (теоретический расчет можно посмотреть [здесь](https://www.unm.edu/~schrader/biostat/bio2/Spr06/lec11.pdf))"
   ]
  },
  {
   "cell_type": "code",
   "execution_count": 77,
   "metadata": {
    "collapsed": false
   },
   "outputs": [
    {
     "name": "stdout",
     "output_type": "stream",
     "text": [
      "[ -1.81852819e-02   4.82349233e-01  -1.07983115e-05   4.30314156e-01\n",
      "   6.59578704e-02  -1.14476586e-05   1.15356249e-01]\n",
      "['age', 'NumberOfTime30-59DaysPastDueNotWorse', 'DebtRatio', 'NumberOfTimes90DaysLate', 'NumberOfTime60-89DaysPastDueNotWorse', 'MonthlyIncome', 'NumberOfDependents']\n",
      "0.695095774821\n"
     ]
    }
   ],
   "source": [
    "### Ваш код должен быть здесь ###\n",
    "lr7 = LogisticRegression(C=0.001, random_state=5, class_weight= 'balanced')\n",
    "lr7.fit(X, y)\n",
    "\n",
    "print (lr7.coef_.ravel())\n",
    "print (independent_columns_names)\n",
    "\n",
    "print (pow(np.exp(lr7.coef_.ravel()[0]), 20))"
   ]
  },
  {
   "cell_type": "markdown",
   "metadata": {},
   "source": [
    "# Случайный лес"
   ]
  },
  {
   "cell_type": "code",
   "execution_count": 91,
   "metadata": {
    "collapsed": false
   },
   "outputs": [
    {
     "data": {
      "text/plain": [
       "{'mean_fit_time': array([ 1.21335077,  1.15307817,  1.13518114,  1.09901519,  1.11182137,\n",
       "         1.12196712,  1.17249188,  1.15384607,  1.69403343,  1.68653321,\n",
       "         1.68324671,  1.72812514,  1.53301659,  1.37807751,  1.39839702,\n",
       "         1.80769954,  2.31965008,  2.61617231,  1.99307847,  1.77041302,\n",
       "         2.59526944,  2.60749488,  2.67830853,  2.49725752,  1.70887599,\n",
       "         1.7227777 ,  1.59656115,  1.59234786,  2.03173313,  1.99876237,\n",
       "         2.08454828,  1.93496552,  2.92976475,  2.87982345,  2.96319871,\n",
       "         2.81570435]),\n",
       " 'mean_score_time': array([ 0.13214049,  0.13802094,  0.10739932,  0.11475649,  0.10777879,\n",
       "         0.10671334,  0.10633769,  0.10660057,  0.10723433,  0.10832953,\n",
       "         0.10664802,  0.10829964,  0.10769157,  0.10707321,  0.10693965,\n",
       "         0.14402151,  0.14907112,  0.12818112,  0.10927954,  0.10730538,\n",
       "         0.10684848,  0.10673904,  0.12817731,  0.10690417,  0.10661554,\n",
       "         0.15168438,  0.10655813,  0.10646462,  0.10659118,  0.10967298,\n",
       "         0.10649519,  0.10658264,  0.1065299 ,  0.11195025,  0.12654977,\n",
       "         0.10646229]),\n",
       " 'mean_test_score': array([ 0.82875027,  0.82886745,  0.82888903,  0.82871968,  0.82820874,\n",
       "         0.82816002,  0.82808719,  0.82810884,  0.82655763,  0.82659839,\n",
       "         0.82657974,  0.82659096,  0.83480441,  0.83474214,  0.83517255,\n",
       "         0.83510432,  0.83454188,  0.83506689,  0.83526974,  0.83563145,\n",
       "         0.8338592 ,  0.83451368,  0.83489455,  0.83523088,  0.82988153,\n",
       "         0.83198683,  0.83261472,  0.83329241,  0.82873881,  0.83101837,\n",
       "         0.83245057,  0.83305441,  0.82614957,  0.82834845,  0.82940773,\n",
       "         0.83095587]),\n",
       " 'mean_train_score': array([ 0.83207056,  0.83200039,  0.83196055,  0.83195106,  0.8314456 ,\n",
       "         0.83134349,  0.83125676,  0.83124131,  0.82962593,  0.82958544,\n",
       "         0.82951834,  0.82947533,  0.86311588,  0.86055293,  0.85886258,\n",
       "         0.8574058 ,  0.86463695,  0.86216828,  0.86065797,  0.8592847 ,\n",
       "         0.86917225,  0.8671112 ,  0.86530928,  0.86396756,  0.92676272,\n",
       "         0.91169849,  0.90209075,  0.89484404,  0.93131367,  0.91706216,\n",
       "         0.9075801 ,  0.90042059,  0.94132722,  0.92765416,  0.91814669,\n",
       "         0.91060712]),\n",
       " 'param_max_depth': masked_array(data = [5 5 5 5 5 5 5 5 5 5 5 5 10 10 10 10 10 10 10 10 10 10 10 10 15 15 15 15 15\n",
       "  15 15 15 15 15 15 15],\n",
       "              mask = [False False False False False False False False False False False False\n",
       "  False False False False False False False False False False False False\n",
       "  False False False False False False False False False False False False],\n",
       "        fill_value = ?),\n",
       " 'param_max_features': masked_array(data = [1 1 1 1 2 2 2 2 4 4 4 4 1 1 1 1 2 2 2 2 4 4 4 4 1 1 1 1 2 2 2 2 4 4 4 4],\n",
       "              mask = [False False False False False False False False False False False False\n",
       "  False False False False False False False False False False False False\n",
       "  False False False False False False False False False False False False],\n",
       "        fill_value = ?),\n",
       " 'param_min_samples_leaf': masked_array(data = [3 5 7 9 3 5 7 9 3 5 7 9 3 5 7 9 3 5 7 9 3 5 7 9 3 5 7 9 3 5 7 9 3 5 7 9],\n",
       "              mask = [False False False False False False False False False False False False\n",
       "  False False False False False False False False False False False False\n",
       "  False False False False False False False False False False False False],\n",
       "        fill_value = ?),\n",
       " 'params': ({'max_depth': 5, 'max_features': 1, 'min_samples_leaf': 3},\n",
       "  {'max_depth': 5, 'max_features': 1, 'min_samples_leaf': 5},\n",
       "  {'max_depth': 5, 'max_features': 1, 'min_samples_leaf': 7},\n",
       "  {'max_depth': 5, 'max_features': 1, 'min_samples_leaf': 9},\n",
       "  {'max_depth': 5, 'max_features': 2, 'min_samples_leaf': 3},\n",
       "  {'max_depth': 5, 'max_features': 2, 'min_samples_leaf': 5},\n",
       "  {'max_depth': 5, 'max_features': 2, 'min_samples_leaf': 7},\n",
       "  {'max_depth': 5, 'max_features': 2, 'min_samples_leaf': 9},\n",
       "  {'max_depth': 5, 'max_features': 4, 'min_samples_leaf': 3},\n",
       "  {'max_depth': 5, 'max_features': 4, 'min_samples_leaf': 5},\n",
       "  {'max_depth': 5, 'max_features': 4, 'min_samples_leaf': 7},\n",
       "  {'max_depth': 5, 'max_features': 4, 'min_samples_leaf': 9},\n",
       "  {'max_depth': 10, 'max_features': 1, 'min_samples_leaf': 3},\n",
       "  {'max_depth': 10, 'max_features': 1, 'min_samples_leaf': 5},\n",
       "  {'max_depth': 10, 'max_features': 1, 'min_samples_leaf': 7},\n",
       "  {'max_depth': 10, 'max_features': 1, 'min_samples_leaf': 9},\n",
       "  {'max_depth': 10, 'max_features': 2, 'min_samples_leaf': 3},\n",
       "  {'max_depth': 10, 'max_features': 2, 'min_samples_leaf': 5},\n",
       "  {'max_depth': 10, 'max_features': 2, 'min_samples_leaf': 7},\n",
       "  {'max_depth': 10, 'max_features': 2, 'min_samples_leaf': 9},\n",
       "  {'max_depth': 10, 'max_features': 4, 'min_samples_leaf': 3},\n",
       "  {'max_depth': 10, 'max_features': 4, 'min_samples_leaf': 5},\n",
       "  {'max_depth': 10, 'max_features': 4, 'min_samples_leaf': 7},\n",
       "  {'max_depth': 10, 'max_features': 4, 'min_samples_leaf': 9},\n",
       "  {'max_depth': 15, 'max_features': 1, 'min_samples_leaf': 3},\n",
       "  {'max_depth': 15, 'max_features': 1, 'min_samples_leaf': 5},\n",
       "  {'max_depth': 15, 'max_features': 1, 'min_samples_leaf': 7},\n",
       "  {'max_depth': 15, 'max_features': 1, 'min_samples_leaf': 9},\n",
       "  {'max_depth': 15, 'max_features': 2, 'min_samples_leaf': 3},\n",
       "  {'max_depth': 15, 'max_features': 2, 'min_samples_leaf': 5},\n",
       "  {'max_depth': 15, 'max_features': 2, 'min_samples_leaf': 7},\n",
       "  {'max_depth': 15, 'max_features': 2, 'min_samples_leaf': 9},\n",
       "  {'max_depth': 15, 'max_features': 4, 'min_samples_leaf': 3},\n",
       "  {'max_depth': 15, 'max_features': 4, 'min_samples_leaf': 5},\n",
       "  {'max_depth': 15, 'max_features': 4, 'min_samples_leaf': 7},\n",
       "  {'max_depth': 15, 'max_features': 4, 'min_samples_leaf': 9}),\n",
       " 'rank_test_score': array([24, 23, 22, 26, 28, 29, 31, 30, 35, 32, 34, 33,  8,  9,  4,  5, 10,\n",
       "         6,  2,  1, 12, 11,  7,  3, 20, 17, 15, 13, 25, 18, 16, 14, 36, 27,\n",
       "        21, 19], dtype=int32),\n",
       " 'split0_test_score': array([ 0.82734829,  0.82723924,  0.82727798,  0.82706618,  0.82546268,\n",
       "         0.82545027,  0.82526472,  0.82513938,  0.82366542,  0.82366922,\n",
       "         0.8236523 ,  0.82362847,  0.83260133,  0.83236958,  0.83267446,\n",
       "         0.8328344 ,  0.8320636 ,  0.83303852,  0.8321677 ,  0.83293683,\n",
       "         0.83089341,  0.83142948,  0.83162947,  0.83205599,  0.82747843,\n",
       "         0.82828135,  0.82994524,  0.83060308,  0.82518163,  0.82786981,\n",
       "         0.82877214,  0.82948017,  0.82245131,  0.82541886,  0.82591121,\n",
       "         0.82742981]),\n",
       " 'split0_train_score': array([ 0.83255559,  0.83225504,  0.83229681,  0.8322276 ,  0.8317916 ,\n",
       "         0.83157426,  0.83142528,  0.83140986,  0.82977057,  0.82972968,\n",
       "         0.82967477,  0.82962493,  0.86391195,  0.8615123 ,  0.85972599,\n",
       "         0.85803615,  0.86543609,  0.86273554,  0.86081526,  0.85989051,\n",
       "         0.86997549,  0.86779187,  0.86576598,  0.86452911,  0.92774483,\n",
       "         0.91307678,  0.90348972,  0.89573163,  0.93146166,  0.91776295,\n",
       "         0.90738602,  0.90093036,  0.94127541,  0.92788653,  0.91843169,\n",
       "         0.91076988]),\n",
       " 'split1_test_score': array([ 0.8211958 ,  0.82145653,  0.82168484,  0.82149019,  0.82135522,\n",
       "         0.82120829,  0.82105563,  0.82117626,  0.8208518 ,  0.82089098,\n",
       "         0.82089717,  0.82094443,  0.82691285,  0.82706284,  0.82783951,\n",
       "         0.82681474,  0.82683072,  0.82686897,  0.82770841,  0.82797074,\n",
       "         0.8268589 ,  0.82755173,  0.82789505,  0.82842217,  0.82290741,\n",
       "         0.82424276,  0.823462  ,  0.82488278,  0.82127223,  0.82294976,\n",
       "         0.82476208,  0.82481051,  0.81947596,  0.82146485,  0.82221989,\n",
       "         0.82438624]),\n",
       " 'split1_train_score': array([ 0.83390698,  0.83406474,  0.83367302,  0.8338092 ,  0.83326071,\n",
       "         0.83314705,  0.83289521,  0.83295466,  0.83147008,  0.83140074,\n",
       "         0.83129816,  0.83124146,  0.86479433,  0.86247661,  0.86110763,\n",
       "         0.85909055,  0.86641932,  0.86437667,  0.86246985,  0.86137687,\n",
       "         0.87093629,  0.8688774 ,  0.86725837,  0.86584238,  0.9272788 ,\n",
       "         0.91249949,  0.90351519,  0.89642889,  0.93275767,  0.9181269 ,\n",
       "         0.90946636,  0.90222591,  0.94152706,  0.92853694,  0.91887171,\n",
       "         0.91194175]),\n",
       " 'split2_test_score': array([ 0.82890796,  0.82920396,  0.82922606,  0.82894032,  0.82840323,\n",
       "         0.82856712,  0.82848665,  0.82838775,  0.82671262,  0.82674355,\n",
       "         0.8266571 ,  0.82664585,  0.83559405,  0.83621914,  0.83616843,\n",
       "         0.8366743 ,  0.83599151,  0.83659693,  0.83658717,  0.83680865,\n",
       "         0.83505081,  0.83547941,  0.83587766,  0.8365039 ,  0.83097985,\n",
       "         0.83326631,  0.83438784,  0.83375823,  0.82972151,  0.83190899,\n",
       "         0.8337446 ,  0.83354373,  0.82621016,  0.828061  ,  0.82958705,\n",
       "         0.83168719]),\n",
       " 'split2_train_score': array([ 0.83175047,  0.83187982,  0.83195314,  0.83190502,  0.83116265,\n",
       "         0.83119446,  0.83120424,  0.83106591,  0.82976421,  0.82977214,\n",
       "         0.82972183,  0.82968358,  0.86236614,  0.86010445,  0.85844476,\n",
       "         0.85725071,  0.86437433,  0.86189437,  0.86047176,  0.85885704,\n",
       "         0.86925917,  0.86734824,  0.86548947,  0.86415946,  0.92711779,\n",
       "         0.91171702,  0.9017909 ,  0.89453628,  0.93131808,  0.9170468 ,\n",
       "         0.9081295 ,  0.90040635,  0.94267433,  0.92878003,  0.91953584,\n",
       "         0.91174363]),\n",
       " 'split3_test_score': array([ 0.82992939,  0.82985063,  0.829786  ,  0.82970147,  0.82991401,\n",
       "         0.82990202,  0.82989138,  0.8299769 ,  0.82803328,  0.82811727,\n",
       "         0.82811182,  0.82816371,  0.83540183,  0.83599197,  0.83616512,\n",
       "         0.83550988,  0.83544781,  0.8362753 ,  0.83673405,  0.83689207,\n",
       "         0.83460102,  0.83576367,  0.83628046,  0.83661582,  0.82970489,\n",
       "         0.83285108,  0.83289731,  0.83435378,  0.83002299,  0.83250255,\n",
       "         0.83340998,  0.83497859,  0.82709535,  0.83007491,  0.83109637,\n",
       "         0.83201295]),\n",
       " 'split3_train_score': array([ 0.83197526,  0.83171189,  0.83187941,  0.83179562,  0.83129486,\n",
       "         0.83127776,  0.8312397 ,  0.83128106,  0.82953072,  0.82949931,\n",
       "         0.82941025,  0.82937485,  0.86326391,  0.86026145,  0.85866999,\n",
       "         0.85744999,  0.86428495,  0.86184823,  0.86047695,  0.85900769,\n",
       "         0.86871765,  0.86673308,  0.86498103,  0.86365901,  0.92712457,\n",
       "         0.91213305,  0.9019904 ,  0.89433419,  0.93083744,  0.91689108,\n",
       "         0.90736935,  0.90029342,  0.94119987,  0.92722545,  0.9178658 ,\n",
       "         0.90981012]),\n",
       " 'split4_test_score': array([ 0.83637104,  0.83658806,  0.83647144,  0.83640143,  0.8359099 ,\n",
       "         0.83567377,  0.83573897,  0.83586535,  0.83352629,  0.8335722 ,\n",
       "         0.83358159,  0.83357362,  0.84351338,  0.84206855,  0.84301662,\n",
       "         0.84368973,  0.84237715,  0.84255609,  0.84315289,  0.84355039,\n",
       "         0.84189327,  0.84234558,  0.84279162,  0.84255798,  0.83833836,\n",
       "         0.84129433,  0.8423828 ,  0.84286568,  0.83749731,  0.83986235,\n",
       "         0.8415657 ,  0.84246078,  0.83551664,  0.83672402,  0.83822569,\n",
       "         0.83926469]),\n",
       " 'split4_train_score': array([ 0.83016448,  0.83009048,  0.83000037,  0.83001788,  0.82971817,\n",
       "         0.82952394,  0.82951935,  0.82949505,  0.82759406,  0.82752535,\n",
       "         0.82748671,  0.82745183,  0.8612431 ,  0.85840983,  0.85636454,\n",
       "         0.85520161,  0.86267004,  0.85998658,  0.85905604,  0.8572914 ,\n",
       "         0.86697265,  0.86480544,  0.86305152,  0.86164784,  0.92454759,\n",
       "         0.9090661 ,  0.89966752,  0.89318924,  0.9301935 ,  0.91548309,\n",
       "         0.90554927,  0.89824691,  0.93995942,  0.92584184,  0.91602843,\n",
       "         0.90877024]),\n",
       " 'std_fit_time': array([ 0.18108906,  0.11907612,  0.08281831,  0.06926887,  0.01760949,\n",
       "         0.0317483 ,  0.05744968,  0.10306701,  0.05721981,  0.09164631,\n",
       "         0.17785931,  0.0776155 ,  0.05723932,  0.04000469,  0.04957009,\n",
       "         0.32112873,  0.3529619 ,  0.31359065,  0.14196879,  0.06208068,\n",
       "         0.1465551 ,  0.13809655,  0.31155815,  0.3441749 ,  0.00961135,\n",
       "         0.09839963,  0.00293701,  0.01197672,  0.03953146,  0.00291385,\n",
       "         0.16824683,  0.05148068,  0.03934097,  0.04383407,  0.14316944,\n",
       "         0.03927544]),\n",
       " 'std_score_time': array([  3.99880467e-02,   3.59514268e-02,   6.99843073e-04,\n",
       "          1.28291507e-02,   1.61229557e-03,   7.22360924e-05,\n",
       "          1.80397120e-04,   9.44825365e-05,   9.13997164e-04,\n",
       "          3.62060310e-03,   3.42689214e-04,   2.06878596e-03,\n",
       "          9.63381495e-04,   9.99865710e-04,   2.64874719e-04,\n",
       "          4.02897160e-02,   4.96374716e-02,   4.06547796e-02,\n",
       "          4.01855692e-03,   8.81691887e-04,   2.38462015e-04,\n",
       "          2.86544537e-04,   4.01515906e-02,   3.85473596e-04,\n",
       "          1.76086285e-04,   5.53497798e-02,   1.00892636e-04,\n",
       "          1.31786870e-04,   1.78401369e-04,   6.30370585e-03,\n",
       "          1.25941116e-04,   2.02599125e-04,   2.14047808e-04,\n",
       "          1.01469147e-02,   4.01934249e-02,   1.99534695e-04]),\n",
       " 'std_test_score': array([ 0.00486879,  0.00486332,  0.00475196,  0.00479625,  0.00483248,\n",
       "         0.00480261,  0.00488616,  0.00491138,  0.00428216,  0.00429223,\n",
       "         0.00429512,  0.00428703,  0.00536573,  0.00494005,  0.0049703 ,\n",
       "         0.005481  ,  0.00509739,  0.00512268,  0.00515403,  0.00513091,\n",
       "         0.00498629,  0.00493587,  0.00499808,  0.00476788,  0.00504315,\n",
       "         0.00570462,  0.00615688,  0.00584711,  0.0054356 ,  0.00558976,\n",
       "         0.00562714,  0.00588486,  0.00541946,  0.00508288,  0.00537642,\n",
       "         0.00502556]),\n",
       " 'std_train_score': array([ 0.00121263,  0.00127058,  0.00117427,  0.00120769,  0.00114027,\n",
       "         0.00115268,  0.00107094,  0.00109961,  0.00123114,  0.00123308,\n",
       "         0.00121432,  0.00120745,  0.00122819,  0.0013784 ,  0.00156446,\n",
       "         0.00127438,  0.00125516,  0.0014238 ,  0.00109007,  0.00133993,\n",
       "         0.00132737,  0.00134896,  0.0013598 ,  0.001367  ,  0.0011309 ,\n",
       "         0.00138996,  0.00141125,  0.00113072,  0.00084719,  0.0009108 ,\n",
       "         0.00127013,  0.00128533,  0.00086538,  0.00105539,  0.00119185,\n",
       "         0.00119237])}"
      ]
     },
     "execution_count": 91,
     "metadata": {},
     "output_type": "execute_result"
    }
   ],
   "source": [
    "from sklearn.ensemble import RandomForestClassifier\n",
    "\n",
    "# Инициализируем случайный лес с 100 деревьями и сбалансированными классами \n",
    "rf = RandomForestClassifier(n_estimators=100, n_jobs=-1, random_state=42, oob_score=True, class_weight='balanced')\n",
    "\n",
    "## Будем искать лучшие параметры среди следующего набора\n",
    "parameters = {'max_features': [1, 2, 4], 'min_samples_leaf': [3, 5, 7, 9], 'max_depth': [5,10,15]}\n",
    "\n",
    "## Делаем опять же стрэтифайд k-fold валидацию. Инициализация которой должна у вас продолжать храниться в skf\n",
    "gs = GridSearchCV(rf, parameters, scoring='roc_auc', cv=skf)\n",
    "gs.fit(X, y)\n",
    "\n",
    "gs.cv_results_"
   ]
  },
  {
   "cell_type": "markdown",
   "metadata": {},
   "source": [
    "**Задание 8.** На сколько точность лучшей модели случайного леса выше точности логистической регрессии на валидации?"
   ]
  },
  {
   "cell_type": "code",
   "execution_count": 99,
   "metadata": {
    "collapsed": false
   },
   "outputs": [
    {
     "name": "stdout",
     "output_type": "stream",
     "text": [
      "0.79620647691\n",
      "0.835631448211\n",
      "{'max_features': 2, 'max_depth': 10, 'min_samples_leaf': 9}\n",
      "4.95160143063\n",
      "4.71798558872\n",
      "3.94249713014\n"
     ]
    }
   ],
   "source": [
    "### Ваш код должен быть здесь ###\n",
    "print (gslr.best_score_)\n",
    "print (gs.best_score_)\n",
    "\n",
    "print (gs.best_params_)\n",
    "\n",
    "print ((gs.best_score_ - gslr.best_score_) / gslr.best_score_ * 100)\n",
    "print ((gs.best_score_ - gslr.best_score_) / gs.best_score_ * 100)\n",
    "print ((gs.best_score_ - gslr.best_score_) * 100)"
   ]
  },
  {
   "cell_type": "markdown",
   "metadata": {},
   "source": [
    "**Задание 9.** Определите какой признак имеет самое слабое влияние."
   ]
  },
  {
   "cell_type": "code",
   "execution_count": 100,
   "metadata": {
    "collapsed": false
   },
   "outputs": [
    {
     "name": "stdout",
     "output_type": "stream",
     "text": [
      "['age', 'NumberOfTime30-59DaysPastDueNotWorse', 'DebtRatio', 'NumberOfTimes90DaysLate', 'NumberOfTime60-89DaysPastDueNotWorse', 'MonthlyIncome', 'NumberOfDependents']\n",
      "[ 0.11695037  0.30141858  0.0761897   0.27886218  0.15358594  0.05853629\n",
      "  0.01445693]\n"
     ]
    }
   ],
   "source": [
    "### Ваш код должен быть здесь ###\n",
    "rf_best = RandomForestClassifier(n_estimators=100, n_jobs=-1, random_state=42, oob_score=True, \n",
    "                                 class_weight='balanced', max_features=2, max_depth=10, min_samples_leaf=9)\n",
    "rf_best.fit(X, y)\n",
    "\n",
    "print (independent_columns_names)\n",
    "print (rf_best.feature_importances_)"
   ]
  },
  {
   "cell_type": "markdown",
   "metadata": {},
   "source": [
    "** Задание 10.** Какое наиболее существенное примущество логистической регрессии перед случайным лесом для нашей бизнес-задачи?\n",
    "\n",
    "- меньше тратится времени для тренировки модели;\n",
    "- меньше параметров для перебора;\n",
    "- интепретируемость признаков;\n",
    "- линейные свойства алгоритма."
   ]
  },
  {
   "cell_type": "markdown",
   "metadata": {},
   "source": [
    "# Бэггинг"
   ]
  },
  {
   "cell_type": "code",
   "execution_count": 101,
   "metadata": {
    "collapsed": true
   },
   "outputs": [],
   "source": [
    "from sklearn.ensemble import BaggingClassifier\n",
    "from sklearn.model_selection import RandomizedSearchCV\n",
    "parameters = {'max_features': [2, 3, 4], 'max_samples': [0.5, 0.7, 0.9], \"base_estimator__C\": [0.0001, 0.001, 0.01, 1, 10, 100]}"
   ]
  },
  {
   "cell_type": "markdown",
   "metadata": {},
   "source": [
    "**Задание 11.** Следующая задача обучить бэггинг классификатор (random_state=42). В качестве базовых классификаторов возьмите 100 логистических регрессий и на этот раз используйте не GridSearchCV, а RandomizedSearchCV. Так как перебирать все 54 варианта комбинаций долго, то поставьте максимальное число итераций 20 для RandomizedSearchCV. Так же не забудьте передать параметр валидации cv и `random_state=1`. Какая лучшая точность получилась?"
   ]
  },
  {
   "cell_type": "code",
   "execution_count": 102,
   "metadata": {
    "collapsed": false
   },
   "outputs": [
    {
     "data": {
      "text/plain": [
       "BaggingClassifier(base_estimator=LogisticRegression(C=0.001, class_weight='balanced', dual=False,\n",
       "          fit_intercept=True, intercept_scaling=1, max_iter=100,\n",
       "          multi_class='ovr', n_jobs=1, penalty='l2', random_state=None,\n",
       "          solver='liblinear', tol=0.0001, verbose=0, warm_start=False),\n",
       "         bootstrap=True, bootstrap_features=False, max_features=2,\n",
       "         max_samples=0.7, n_estimators=100, n_jobs=-1, oob_score=False,\n",
       "         random_state=42, verbose=0, warm_start=False)"
      ]
     },
     "execution_count": 102,
     "metadata": {},
     "output_type": "execute_result"
    }
   ],
   "source": [
    "### Ваш код должен быть здесь ###\n",
    "bagng = BaggingClassifier(base_estimator=LogisticRegression(class_weight='balanced'), n_estimators=100, \n",
    "                          n_jobs=-1, random_state=42)\n",
    "\n",
    "rcv = RandomizedSearchCV(bagng, parameters, n_iter=20, cv=skf, scoring='roc_auc', n_jobs=-1, random_state=1)\n",
    "rcv.fit(X, y)\n",
    "\n",
    "rcv.best_estimator_"
   ]
  },
  {
   "cell_type": "code",
   "execution_count": 105,
   "metadata": {
    "collapsed": false
   },
   "outputs": [
    {
     "data": {
      "text/plain": [
       "80.746778722957359"
      ]
     },
     "execution_count": 105,
     "metadata": {},
     "output_type": "execute_result"
    }
   ],
   "source": [
    "rcv.best_score_ * 100"
   ]
  },
  {
   "cell_type": "markdown",
   "metadata": {},
   "source": [
    "**Задача 12.** Дайте интерпретацию лучших параметров для бэггинга. Почему именно такие значения оказались лучшими?\n",
    "\n",
    "- для бэггинга важно использовать как можно меньше признаков\n",
    "- бэггинг лучше работает на небольших выборках\n",
    "- меньше корреляция между одиночными моделями\n",
    "- чем больше признаков, тем меньше теряется информации"
   ]
  },
  {
   "cell_type": "code",
   "execution_count": null,
   "metadata": {
    "collapsed": true
   },
   "outputs": [],
   "source": []
  }
 ],
 "metadata": {
  "anaconda-cloud": {},
  "kernelspec": {
   "display_name": "Python [Root]",
   "language": "python",
   "name": "Python [Root]"
  },
  "language_info": {
   "codemirror_mode": {
    "name": "ipython",
    "version": 3
   },
   "file_extension": ".py",
   "mimetype": "text/x-python",
   "name": "python",
   "nbconvert_exporter": "python",
   "pygments_lexer": "ipython3",
   "version": "3.5.2"
  }
 },
 "nbformat": 4,
 "nbformat_minor": 0
}
